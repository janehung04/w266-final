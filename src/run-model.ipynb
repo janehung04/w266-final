{
  "nbformat": 4,
  "nbformat_minor": 0,
  "metadata": {
    "kernelspec": {
      "display_name": "Python 3",
      "language": "python",
      "name": "python3"
    },
    "language_info": {
      "codemirror_mode": {
        "name": "ipython",
        "version": 3
      },
      "file_extension": ".py",
      "mimetype": "text/x-python",
      "name": "python",
      "nbconvert_exporter": "python",
      "pygments_lexer": "ipython3",
      "version": "3.8.3"
    },
    "colab": {
      "name": "run-model.ipynb",
      "provenance": [],
      "toc_visible": true,
      "include_colab_link": true
    },
    "accelerator": "GPU",
    "widgets": {
      "application/vnd.jupyter.widget-state+json": {
        "a35855c7b19c4bbda0e75eac4ee79135": {
          "model_module": "@jupyter-widgets/controls",
          "model_name": "HBoxModel",
          "state": {
            "_view_name": "HBoxView",
            "_dom_classes": [],
            "_model_name": "HBoxModel",
            "_view_module": "@jupyter-widgets/controls",
            "_model_module_version": "1.5.0",
            "_view_count": null,
            "_view_module_version": "1.5.0",
            "box_style": "",
            "layout": "IPY_MODEL_141028fbb0bd46f1b872362e6ba31cff",
            "_model_module": "@jupyter-widgets/controls",
            "children": [
              "IPY_MODEL_ec5320a3c9284ef197d8beda2a4d2282",
              "IPY_MODEL_e6fd3f1f25c647a3a971448d8d1ffe38"
            ]
          }
        },
        "141028fbb0bd46f1b872362e6ba31cff": {
          "model_module": "@jupyter-widgets/base",
          "model_name": "LayoutModel",
          "state": {
            "_view_name": "LayoutView",
            "grid_template_rows": null,
            "right": null,
            "justify_content": null,
            "_view_module": "@jupyter-widgets/base",
            "overflow": null,
            "_model_module_version": "1.2.0",
            "_view_count": null,
            "flex_flow": null,
            "width": null,
            "min_width": null,
            "border": null,
            "align_items": null,
            "bottom": null,
            "_model_module": "@jupyter-widgets/base",
            "top": null,
            "grid_column": null,
            "overflow_y": null,
            "overflow_x": null,
            "grid_auto_flow": null,
            "grid_area": null,
            "grid_template_columns": null,
            "flex": null,
            "_model_name": "LayoutModel",
            "justify_items": null,
            "grid_row": null,
            "max_height": null,
            "align_content": null,
            "visibility": null,
            "align_self": null,
            "height": null,
            "min_height": null,
            "padding": null,
            "grid_auto_rows": null,
            "grid_gap": null,
            "max_width": null,
            "order": null,
            "_view_module_version": "1.2.0",
            "grid_template_areas": null,
            "object_position": null,
            "object_fit": null,
            "grid_auto_columns": null,
            "margin": null,
            "display": null,
            "left": null
          }
        },
        "ec5320a3c9284ef197d8beda2a4d2282": {
          "model_module": "@jupyter-widgets/controls",
          "model_name": "FloatProgressModel",
          "state": {
            "_view_name": "ProgressView",
            "style": "IPY_MODEL_19755be40d454987a08cd7c22cdf4617",
            "_dom_classes": [],
            "description": "Downloading: 100%",
            "_model_name": "FloatProgressModel",
            "bar_style": "success",
            "max": 231508,
            "_view_module": "@jupyter-widgets/controls",
            "_model_module_version": "1.5.0",
            "value": 231508,
            "_view_count": null,
            "_view_module_version": "1.5.0",
            "orientation": "horizontal",
            "min": 0,
            "description_tooltip": null,
            "_model_module": "@jupyter-widgets/controls",
            "layout": "IPY_MODEL_f732c2914976420986d1550b894273a6"
          }
        },
        "e6fd3f1f25c647a3a971448d8d1ffe38": {
          "model_module": "@jupyter-widgets/controls",
          "model_name": "HTMLModel",
          "state": {
            "_view_name": "HTMLView",
            "style": "IPY_MODEL_1c3367d1e13d488db50952799dbd16f5",
            "_dom_classes": [],
            "description": "",
            "_model_name": "HTMLModel",
            "placeholder": "​",
            "_view_module": "@jupyter-widgets/controls",
            "_model_module_version": "1.5.0",
            "value": " 232k/232k [00:00&lt;00:00, 1.08MB/s]",
            "_view_count": null,
            "_view_module_version": "1.5.0",
            "description_tooltip": null,
            "_model_module": "@jupyter-widgets/controls",
            "layout": "IPY_MODEL_f27214776f3e4c0db147ad5b36dd4d14"
          }
        },
        "19755be40d454987a08cd7c22cdf4617": {
          "model_module": "@jupyter-widgets/controls",
          "model_name": "ProgressStyleModel",
          "state": {
            "_view_name": "StyleView",
            "_model_name": "ProgressStyleModel",
            "description_width": "initial",
            "_view_module": "@jupyter-widgets/base",
            "_model_module_version": "1.5.0",
            "_view_count": null,
            "_view_module_version": "1.2.0",
            "bar_color": null,
            "_model_module": "@jupyter-widgets/controls"
          }
        },
        "f732c2914976420986d1550b894273a6": {
          "model_module": "@jupyter-widgets/base",
          "model_name": "LayoutModel",
          "state": {
            "_view_name": "LayoutView",
            "grid_template_rows": null,
            "right": null,
            "justify_content": null,
            "_view_module": "@jupyter-widgets/base",
            "overflow": null,
            "_model_module_version": "1.2.0",
            "_view_count": null,
            "flex_flow": null,
            "width": null,
            "min_width": null,
            "border": null,
            "align_items": null,
            "bottom": null,
            "_model_module": "@jupyter-widgets/base",
            "top": null,
            "grid_column": null,
            "overflow_y": null,
            "overflow_x": null,
            "grid_auto_flow": null,
            "grid_area": null,
            "grid_template_columns": null,
            "flex": null,
            "_model_name": "LayoutModel",
            "justify_items": null,
            "grid_row": null,
            "max_height": null,
            "align_content": null,
            "visibility": null,
            "align_self": null,
            "height": null,
            "min_height": null,
            "padding": null,
            "grid_auto_rows": null,
            "grid_gap": null,
            "max_width": null,
            "order": null,
            "_view_module_version": "1.2.0",
            "grid_template_areas": null,
            "object_position": null,
            "object_fit": null,
            "grid_auto_columns": null,
            "margin": null,
            "display": null,
            "left": null
          }
        },
        "1c3367d1e13d488db50952799dbd16f5": {
          "model_module": "@jupyter-widgets/controls",
          "model_name": "DescriptionStyleModel",
          "state": {
            "_view_name": "StyleView",
            "_model_name": "DescriptionStyleModel",
            "description_width": "",
            "_view_module": "@jupyter-widgets/base",
            "_model_module_version": "1.5.0",
            "_view_count": null,
            "_view_module_version": "1.2.0",
            "_model_module": "@jupyter-widgets/controls"
          }
        },
        "f27214776f3e4c0db147ad5b36dd4d14": {
          "model_module": "@jupyter-widgets/base",
          "model_name": "LayoutModel",
          "state": {
            "_view_name": "LayoutView",
            "grid_template_rows": null,
            "right": null,
            "justify_content": null,
            "_view_module": "@jupyter-widgets/base",
            "overflow": null,
            "_model_module_version": "1.2.0",
            "_view_count": null,
            "flex_flow": null,
            "width": null,
            "min_width": null,
            "border": null,
            "align_items": null,
            "bottom": null,
            "_model_module": "@jupyter-widgets/base",
            "top": null,
            "grid_column": null,
            "overflow_y": null,
            "overflow_x": null,
            "grid_auto_flow": null,
            "grid_area": null,
            "grid_template_columns": null,
            "flex": null,
            "_model_name": "LayoutModel",
            "justify_items": null,
            "grid_row": null,
            "max_height": null,
            "align_content": null,
            "visibility": null,
            "align_self": null,
            "height": null,
            "min_height": null,
            "padding": null,
            "grid_auto_rows": null,
            "grid_gap": null,
            "max_width": null,
            "order": null,
            "_view_module_version": "1.2.0",
            "grid_template_areas": null,
            "object_position": null,
            "object_fit": null,
            "grid_auto_columns": null,
            "margin": null,
            "display": null,
            "left": null
          }
        },
        "b11e7e2fb006449ea8a4777e5d65f3de": {
          "model_module": "@jupyter-widgets/controls",
          "model_name": "HBoxModel",
          "state": {
            "_view_name": "HBoxView",
            "_dom_classes": [],
            "_model_name": "HBoxModel",
            "_view_module": "@jupyter-widgets/controls",
            "_model_module_version": "1.5.0",
            "_view_count": null,
            "_view_module_version": "1.5.0",
            "box_style": "",
            "layout": "IPY_MODEL_cee9adc149944d1b9a7c0c5c77fa63ed",
            "_model_module": "@jupyter-widgets/controls",
            "children": [
              "IPY_MODEL_924ad2867cfb4141b9c623d8b2a1730c",
              "IPY_MODEL_d34346618fe648fc81729e5ecd6613c4"
            ]
          }
        },
        "cee9adc149944d1b9a7c0c5c77fa63ed": {
          "model_module": "@jupyter-widgets/base",
          "model_name": "LayoutModel",
          "state": {
            "_view_name": "LayoutView",
            "grid_template_rows": null,
            "right": null,
            "justify_content": null,
            "_view_module": "@jupyter-widgets/base",
            "overflow": null,
            "_model_module_version": "1.2.0",
            "_view_count": null,
            "flex_flow": null,
            "width": null,
            "min_width": null,
            "border": null,
            "align_items": null,
            "bottom": null,
            "_model_module": "@jupyter-widgets/base",
            "top": null,
            "grid_column": null,
            "overflow_y": null,
            "overflow_x": null,
            "grid_auto_flow": null,
            "grid_area": null,
            "grid_template_columns": null,
            "flex": null,
            "_model_name": "LayoutModel",
            "justify_items": null,
            "grid_row": null,
            "max_height": null,
            "align_content": null,
            "visibility": null,
            "align_self": null,
            "height": null,
            "min_height": null,
            "padding": null,
            "grid_auto_rows": null,
            "grid_gap": null,
            "max_width": null,
            "order": null,
            "_view_module_version": "1.2.0",
            "grid_template_areas": null,
            "object_position": null,
            "object_fit": null,
            "grid_auto_columns": null,
            "margin": null,
            "display": null,
            "left": null
          }
        },
        "924ad2867cfb4141b9c623d8b2a1730c": {
          "model_module": "@jupyter-widgets/controls",
          "model_name": "FloatProgressModel",
          "state": {
            "_view_name": "ProgressView",
            "style": "IPY_MODEL_5d47e578180e467fa1b5514cb42d7da1",
            "_dom_classes": [],
            "description": "Downloading: 100%",
            "_model_name": "FloatProgressModel",
            "bar_style": "success",
            "max": 28,
            "_view_module": "@jupyter-widgets/controls",
            "_model_module_version": "1.5.0",
            "value": 28,
            "_view_count": null,
            "_view_module_version": "1.5.0",
            "orientation": "horizontal",
            "min": 0,
            "description_tooltip": null,
            "_model_module": "@jupyter-widgets/controls",
            "layout": "IPY_MODEL_53b27ac21cd14611bf07704ae13783d9"
          }
        },
        "d34346618fe648fc81729e5ecd6613c4": {
          "model_module": "@jupyter-widgets/controls",
          "model_name": "HTMLModel",
          "state": {
            "_view_name": "HTMLView",
            "style": "IPY_MODEL_55e6ef319c1242d79ef972e415e5932f",
            "_dom_classes": [],
            "description": "",
            "_model_name": "HTMLModel",
            "placeholder": "​",
            "_view_module": "@jupyter-widgets/controls",
            "_model_module_version": "1.5.0",
            "value": " 28.0/28.0 [00:00&lt;00:00, 141B/s]",
            "_view_count": null,
            "_view_module_version": "1.5.0",
            "description_tooltip": null,
            "_model_module": "@jupyter-widgets/controls",
            "layout": "IPY_MODEL_6b142987d92e4393a580da4e0972195a"
          }
        },
        "5d47e578180e467fa1b5514cb42d7da1": {
          "model_module": "@jupyter-widgets/controls",
          "model_name": "ProgressStyleModel",
          "state": {
            "_view_name": "StyleView",
            "_model_name": "ProgressStyleModel",
            "description_width": "initial",
            "_view_module": "@jupyter-widgets/base",
            "_model_module_version": "1.5.0",
            "_view_count": null,
            "_view_module_version": "1.2.0",
            "bar_color": null,
            "_model_module": "@jupyter-widgets/controls"
          }
        },
        "53b27ac21cd14611bf07704ae13783d9": {
          "model_module": "@jupyter-widgets/base",
          "model_name": "LayoutModel",
          "state": {
            "_view_name": "LayoutView",
            "grid_template_rows": null,
            "right": null,
            "justify_content": null,
            "_view_module": "@jupyter-widgets/base",
            "overflow": null,
            "_model_module_version": "1.2.0",
            "_view_count": null,
            "flex_flow": null,
            "width": null,
            "min_width": null,
            "border": null,
            "align_items": null,
            "bottom": null,
            "_model_module": "@jupyter-widgets/base",
            "top": null,
            "grid_column": null,
            "overflow_y": null,
            "overflow_x": null,
            "grid_auto_flow": null,
            "grid_area": null,
            "grid_template_columns": null,
            "flex": null,
            "_model_name": "LayoutModel",
            "justify_items": null,
            "grid_row": null,
            "max_height": null,
            "align_content": null,
            "visibility": null,
            "align_self": null,
            "height": null,
            "min_height": null,
            "padding": null,
            "grid_auto_rows": null,
            "grid_gap": null,
            "max_width": null,
            "order": null,
            "_view_module_version": "1.2.0",
            "grid_template_areas": null,
            "object_position": null,
            "object_fit": null,
            "grid_auto_columns": null,
            "margin": null,
            "display": null,
            "left": null
          }
        },
        "55e6ef319c1242d79ef972e415e5932f": {
          "model_module": "@jupyter-widgets/controls",
          "model_name": "DescriptionStyleModel",
          "state": {
            "_view_name": "StyleView",
            "_model_name": "DescriptionStyleModel",
            "description_width": "",
            "_view_module": "@jupyter-widgets/base",
            "_model_module_version": "1.5.0",
            "_view_count": null,
            "_view_module_version": "1.2.0",
            "_model_module": "@jupyter-widgets/controls"
          }
        },
        "6b142987d92e4393a580da4e0972195a": {
          "model_module": "@jupyter-widgets/base",
          "model_name": "LayoutModel",
          "state": {
            "_view_name": "LayoutView",
            "grid_template_rows": null,
            "right": null,
            "justify_content": null,
            "_view_module": "@jupyter-widgets/base",
            "overflow": null,
            "_model_module_version": "1.2.0",
            "_view_count": null,
            "flex_flow": null,
            "width": null,
            "min_width": null,
            "border": null,
            "align_items": null,
            "bottom": null,
            "_model_module": "@jupyter-widgets/base",
            "top": null,
            "grid_column": null,
            "overflow_y": null,
            "overflow_x": null,
            "grid_auto_flow": null,
            "grid_area": null,
            "grid_template_columns": null,
            "flex": null,
            "_model_name": "LayoutModel",
            "justify_items": null,
            "grid_row": null,
            "max_height": null,
            "align_content": null,
            "visibility": null,
            "align_self": null,
            "height": null,
            "min_height": null,
            "padding": null,
            "grid_auto_rows": null,
            "grid_gap": null,
            "max_width": null,
            "order": null,
            "_view_module_version": "1.2.0",
            "grid_template_areas": null,
            "object_position": null,
            "object_fit": null,
            "grid_auto_columns": null,
            "margin": null,
            "display": null,
            "left": null
          }
        },
        "62190c66b70d42da92492402e1b8d69f": {
          "model_module": "@jupyter-widgets/controls",
          "model_name": "HBoxModel",
          "state": {
            "_view_name": "HBoxView",
            "_dom_classes": [],
            "_model_name": "HBoxModel",
            "_view_module": "@jupyter-widgets/controls",
            "_model_module_version": "1.5.0",
            "_view_count": null,
            "_view_module_version": "1.5.0",
            "box_style": "",
            "layout": "IPY_MODEL_8eb1e2a6bafc4085ba34b06c3e446b0f",
            "_model_module": "@jupyter-widgets/controls",
            "children": [
              "IPY_MODEL_1929f2e62c084b218a5e5ae845541717",
              "IPY_MODEL_0ae8fb4122de46dc8d7c96050dff0114"
            ]
          }
        },
        "8eb1e2a6bafc4085ba34b06c3e446b0f": {
          "model_module": "@jupyter-widgets/base",
          "model_name": "LayoutModel",
          "state": {
            "_view_name": "LayoutView",
            "grid_template_rows": null,
            "right": null,
            "justify_content": null,
            "_view_module": "@jupyter-widgets/base",
            "overflow": null,
            "_model_module_version": "1.2.0",
            "_view_count": null,
            "flex_flow": null,
            "width": null,
            "min_width": null,
            "border": null,
            "align_items": null,
            "bottom": null,
            "_model_module": "@jupyter-widgets/base",
            "top": null,
            "grid_column": null,
            "overflow_y": null,
            "overflow_x": null,
            "grid_auto_flow": null,
            "grid_area": null,
            "grid_template_columns": null,
            "flex": null,
            "_model_name": "LayoutModel",
            "justify_items": null,
            "grid_row": null,
            "max_height": null,
            "align_content": null,
            "visibility": null,
            "align_self": null,
            "height": null,
            "min_height": null,
            "padding": null,
            "grid_auto_rows": null,
            "grid_gap": null,
            "max_width": null,
            "order": null,
            "_view_module_version": "1.2.0",
            "grid_template_areas": null,
            "object_position": null,
            "object_fit": null,
            "grid_auto_columns": null,
            "margin": null,
            "display": null,
            "left": null
          }
        },
        "1929f2e62c084b218a5e5ae845541717": {
          "model_module": "@jupyter-widgets/controls",
          "model_name": "FloatProgressModel",
          "state": {
            "_view_name": "ProgressView",
            "style": "IPY_MODEL_b665757b4b1d478683168fa77e28cc1f",
            "_dom_classes": [],
            "description": "Downloading: 100%",
            "_model_name": "FloatProgressModel",
            "bar_style": "success",
            "max": 466062,
            "_view_module": "@jupyter-widgets/controls",
            "_model_module_version": "1.5.0",
            "value": 466062,
            "_view_count": null,
            "_view_module_version": "1.5.0",
            "orientation": "horizontal",
            "min": 0,
            "description_tooltip": null,
            "_model_module": "@jupyter-widgets/controls",
            "layout": "IPY_MODEL_a0b5c0933fbc453b80d613da69797304"
          }
        },
        "0ae8fb4122de46dc8d7c96050dff0114": {
          "model_module": "@jupyter-widgets/controls",
          "model_name": "HTMLModel",
          "state": {
            "_view_name": "HTMLView",
            "style": "IPY_MODEL_e5e9766a8bff49cb9e993e65f3c3b7e8",
            "_dom_classes": [],
            "description": "",
            "_model_name": "HTMLModel",
            "placeholder": "​",
            "_view_module": "@jupyter-widgets/controls",
            "_model_module_version": "1.5.0",
            "value": " 466k/466k [00:00&lt;00:00, 5.18MB/s]",
            "_view_count": null,
            "_view_module_version": "1.5.0",
            "description_tooltip": null,
            "_model_module": "@jupyter-widgets/controls",
            "layout": "IPY_MODEL_482a7c439f224dfcaea2cd1fb328918a"
          }
        },
        "b665757b4b1d478683168fa77e28cc1f": {
          "model_module": "@jupyter-widgets/controls",
          "model_name": "ProgressStyleModel",
          "state": {
            "_view_name": "StyleView",
            "_model_name": "ProgressStyleModel",
            "description_width": "initial",
            "_view_module": "@jupyter-widgets/base",
            "_model_module_version": "1.5.0",
            "_view_count": null,
            "_view_module_version": "1.2.0",
            "bar_color": null,
            "_model_module": "@jupyter-widgets/controls"
          }
        },
        "a0b5c0933fbc453b80d613da69797304": {
          "model_module": "@jupyter-widgets/base",
          "model_name": "LayoutModel",
          "state": {
            "_view_name": "LayoutView",
            "grid_template_rows": null,
            "right": null,
            "justify_content": null,
            "_view_module": "@jupyter-widgets/base",
            "overflow": null,
            "_model_module_version": "1.2.0",
            "_view_count": null,
            "flex_flow": null,
            "width": null,
            "min_width": null,
            "border": null,
            "align_items": null,
            "bottom": null,
            "_model_module": "@jupyter-widgets/base",
            "top": null,
            "grid_column": null,
            "overflow_y": null,
            "overflow_x": null,
            "grid_auto_flow": null,
            "grid_area": null,
            "grid_template_columns": null,
            "flex": null,
            "_model_name": "LayoutModel",
            "justify_items": null,
            "grid_row": null,
            "max_height": null,
            "align_content": null,
            "visibility": null,
            "align_self": null,
            "height": null,
            "min_height": null,
            "padding": null,
            "grid_auto_rows": null,
            "grid_gap": null,
            "max_width": null,
            "order": null,
            "_view_module_version": "1.2.0",
            "grid_template_areas": null,
            "object_position": null,
            "object_fit": null,
            "grid_auto_columns": null,
            "margin": null,
            "display": null,
            "left": null
          }
        },
        "e5e9766a8bff49cb9e993e65f3c3b7e8": {
          "model_module": "@jupyter-widgets/controls",
          "model_name": "DescriptionStyleModel",
          "state": {
            "_view_name": "StyleView",
            "_model_name": "DescriptionStyleModel",
            "description_width": "",
            "_view_module": "@jupyter-widgets/base",
            "_model_module_version": "1.5.0",
            "_view_count": null,
            "_view_module_version": "1.2.0",
            "_model_module": "@jupyter-widgets/controls"
          }
        },
        "482a7c439f224dfcaea2cd1fb328918a": {
          "model_module": "@jupyter-widgets/base",
          "model_name": "LayoutModel",
          "state": {
            "_view_name": "LayoutView",
            "grid_template_rows": null,
            "right": null,
            "justify_content": null,
            "_view_module": "@jupyter-widgets/base",
            "overflow": null,
            "_model_module_version": "1.2.0",
            "_view_count": null,
            "flex_flow": null,
            "width": null,
            "min_width": null,
            "border": null,
            "align_items": null,
            "bottom": null,
            "_model_module": "@jupyter-widgets/base",
            "top": null,
            "grid_column": null,
            "overflow_y": null,
            "overflow_x": null,
            "grid_auto_flow": null,
            "grid_area": null,
            "grid_template_columns": null,
            "flex": null,
            "_model_name": "LayoutModel",
            "justify_items": null,
            "grid_row": null,
            "max_height": null,
            "align_content": null,
            "visibility": null,
            "align_self": null,
            "height": null,
            "min_height": null,
            "padding": null,
            "grid_auto_rows": null,
            "grid_gap": null,
            "max_width": null,
            "order": null,
            "_view_module_version": "1.2.0",
            "grid_template_areas": null,
            "object_position": null,
            "object_fit": null,
            "grid_auto_columns": null,
            "margin": null,
            "display": null,
            "left": null
          }
        }
      }
    }
  },
  "cells": [
    {
      "cell_type": "markdown",
      "metadata": {
        "id": "view-in-github",
        "colab_type": "text"
      },
      "source": [
        "<a href=\"https://colab.research.google.com/github/janehung04/w266-final/blob/dev/src/run-model.ipynb\" target=\"_parent\"><img src=\"https://colab.research.google.com/assets/colab-badge.svg\" alt=\"Open In Colab\"/></a>"
      ]
    },
    {
      "cell_type": "markdown",
      "metadata": {
        "id": "Ir-egNirWntl"
      },
      "source": [
        "# Explore Data\n",
        "**Author:** Jane Hung  \n",
        "**Date:** 1 Mar 2020  \n",
        "**Citations:**  \n",
        "@inproceedings{xu_bert2019,\n",
        "    title = \"BERT Post-Training for Review Reading Comprehension and Aspect-based Sentiment Analysis\",\n",
        "    author = \"Xu, Hu and Liu, Bing and Shu, Lei and Yu, Philip S.\",\n",
        "    booktitle = \"Proceedings of the 2019 Conference of the North American Chapter of the Association for Computational Linguistics\",\n",
        "    year = \"2019\",\n",
        "}  \n",
        "https://drive.google.com/file/d/1NGH5bqzEx6aDlYJ7O3hepZF4i_p4iMR8/view"
      ]
    },
    {
      "cell_type": "markdown",
      "metadata": {
        "id": "eF3S4i1hWnts"
      },
      "source": [
        "## Initialize environment"
      ]
    },
    {
      "cell_type": "code",
      "metadata": {
        "colab": {
          "base_uri": "https://localhost:8080/"
        },
        "id": "xR-0mzoMYTB_",
        "outputId": "83cb93d5-26c3-4d7b-d91c-d947b30fafb0"
      },
      "source": [
        "!pip install transformers\n",
        "!pip install vaderSentiment"
      ],
      "execution_count": 12,
      "outputs": [
        {
          "output_type": "stream",
          "text": [
            "Requirement already satisfied: transformers in /usr/local/lib/python3.7/dist-packages (4.5.0)\n",
            "Requirement already satisfied: importlib-metadata; python_version < \"3.8\" in /usr/local/lib/python3.7/dist-packages (from transformers) (3.8.1)\n",
            "Requirement already satisfied: filelock in /usr/local/lib/python3.7/dist-packages (from transformers) (3.0.12)\n",
            "Requirement already satisfied: requests in /usr/local/lib/python3.7/dist-packages (from transformers) (2.23.0)\n",
            "Requirement already satisfied: numpy>=1.17 in /usr/local/lib/python3.7/dist-packages (from transformers) (1.19.5)\n",
            "Requirement already satisfied: tokenizers<0.11,>=0.10.1 in /usr/local/lib/python3.7/dist-packages (from transformers) (0.10.2)\n",
            "Requirement already satisfied: packaging in /usr/local/lib/python3.7/dist-packages (from transformers) (20.9)\n",
            "Requirement already satisfied: sacremoses in /usr/local/lib/python3.7/dist-packages (from transformers) (0.0.44)\n",
            "Requirement already satisfied: regex!=2019.12.17 in /usr/local/lib/python3.7/dist-packages (from transformers) (2019.12.20)\n",
            "Requirement already satisfied: tqdm>=4.27 in /usr/local/lib/python3.7/dist-packages (from transformers) (4.41.1)\n",
            "Requirement already satisfied: zipp>=0.5 in /usr/local/lib/python3.7/dist-packages (from importlib-metadata; python_version < \"3.8\"->transformers) (3.4.1)\n",
            "Requirement already satisfied: typing-extensions>=3.6.4; python_version < \"3.8\" in /usr/local/lib/python3.7/dist-packages (from importlib-metadata; python_version < \"3.8\"->transformers) (3.7.4.3)\n",
            "Requirement already satisfied: chardet<4,>=3.0.2 in /usr/local/lib/python3.7/dist-packages (from requests->transformers) (3.0.4)\n",
            "Requirement already satisfied: urllib3!=1.25.0,!=1.25.1,<1.26,>=1.21.1 in /usr/local/lib/python3.7/dist-packages (from requests->transformers) (1.24.3)\n",
            "Requirement already satisfied: idna<3,>=2.5 in /usr/local/lib/python3.7/dist-packages (from requests->transformers) (2.10)\n",
            "Requirement already satisfied: certifi>=2017.4.17 in /usr/local/lib/python3.7/dist-packages (from requests->transformers) (2020.12.5)\n",
            "Requirement already satisfied: pyparsing>=2.0.2 in /usr/local/lib/python3.7/dist-packages (from packaging->transformers) (2.4.7)\n",
            "Requirement already satisfied: joblib in /usr/local/lib/python3.7/dist-packages (from sacremoses->transformers) (1.0.1)\n",
            "Requirement already satisfied: six in /usr/local/lib/python3.7/dist-packages (from sacremoses->transformers) (1.15.0)\n",
            "Requirement already satisfied: click in /usr/local/lib/python3.7/dist-packages (from sacremoses->transformers) (7.1.2)\n",
            "Requirement already satisfied: vaderSentiment in /usr/local/lib/python3.7/dist-packages (3.3.2)\n",
            "Requirement already satisfied: requests in /usr/local/lib/python3.7/dist-packages (from vaderSentiment) (2.23.0)\n",
            "Requirement already satisfied: idna<3,>=2.5 in /usr/local/lib/python3.7/dist-packages (from requests->vaderSentiment) (2.10)\n",
            "Requirement already satisfied: certifi>=2017.4.17 in /usr/local/lib/python3.7/dist-packages (from requests->vaderSentiment) (2020.12.5)\n",
            "Requirement already satisfied: chardet<4,>=3.0.2 in /usr/local/lib/python3.7/dist-packages (from requests->vaderSentiment) (3.0.4)\n",
            "Requirement already satisfied: urllib3!=1.25.0,!=1.25.1,<1.26,>=1.21.1 in /usr/local/lib/python3.7/dist-packages (from requests->vaderSentiment) (1.24.3)\n"
          ],
          "name": "stdout"
        }
      ]
    },
    {
      "cell_type": "code",
      "metadata": {
        "id": "SOD9GsI-Wntt"
      },
      "source": [
        "import pandas as pd\n",
        "import numpy as np\n",
        "import os\n",
        "import sys\n",
        "import json\n",
        "import pprint\n",
        "import tensorflow as tf\n",
        "from time import time\n",
        "import io\n",
        "import re\n",
        "\n",
        "import nltk\n",
        "\n",
        "import pickle\n",
        "from csv import reader\n",
        "\n",
        "import matplotlib.pyplot as plt\n",
        "from matplotlib import colors\n",
        "from matplotlib.ticker import PercentFormatter\n",
        "\n",
        "from tensorflow.keras import layers\n",
        "from tensorflow.keras.backend import sparse_categorical_crossentropy, int_shape\n",
        "from tensorflow.keras.layers import Dense, Flatten\n",
        "\n",
        "from datetime import datetime\n",
        "\n",
        "from transformers import BertTokenizer, TFBertModel,TFBertForSequenceClassification\n",
        "\n",
        "from collections import Counter\n",
        "\n",
        "from sklearn.metrics import log_loss, confusion_matrix, classification_report, accuracy_score\n",
        "from sklearn.preprocessing import LabelEncoder\n",
        "\n",
        "from vaderSentiment.vaderSentiment import SentimentIntensityAnalyzer\n",
        "from IPython.core.interactiveshell import InteractiveShell\n",
        "InteractiveShell.ast_node_interactivity = \"all\""
      ],
      "execution_count": 87,
      "outputs": []
    },
    {
      "cell_type": "markdown",
      "metadata": {
        "id": "26ebrcS5Wntu"
      },
      "source": [
        "## Helper functions"
      ]
    },
    {
      "cell_type": "code",
      "metadata": {
        "id": "k1OLUMwXWntu"
      },
      "source": [
        "def read_json(filename):\n",
        "    f = open(filename,'r')\n",
        "    data = json.loads(f.read())\n",
        "    print('\\n',filename)\n",
        "    pprint.pprint(dict(list(data.items())[:1]))\n",
        "    return(data)"
      ],
      "execution_count": 14,
      "outputs": []
    },
    {
      "cell_type": "markdown",
      "metadata": {
        "id": "9ZKxgHfEWntv"
      },
      "source": [
        "## Import data"
      ]
    },
    {
      "cell_type": "markdown",
      "metadata": {
        "id": "M5-M4q-AWntv"
      },
      "source": [
        "### Training data"
      ]
    },
    {
      "cell_type": "code",
      "metadata": {
        "colab": {
          "base_uri": "https://localhost:8080/"
        },
        "id": "lvVpxXPiYgvx",
        "outputId": "6ed0eeee-e668-4490-efb5-46c30faf7816"
      },
      "source": [
        "\n",
        "!pwd"
      ],
      "execution_count": 15,
      "outputs": [
        {
          "output_type": "stream",
          "text": [
            "/content\n"
          ],
          "name": "stdout"
        }
      ]
    },
    {
      "cell_type": "code",
      "metadata": {
        "colab": {
          "base_uri": "https://localhost:8080/"
        },
        "id": "75TRUUHOWntv",
        "outputId": "d2c50dfb-7cb4-40f3-912c-2339d92212c1"
      },
      "source": [
        "ae_laptop_train = read_json('../data/hu-data/ae/laptop/train.json')\n",
        "\n",
        "\n",
        "asc_laptop_train = read_json('../data/hu-data/asc/laptop/train.json')"
      ],
      "execution_count": 16,
      "outputs": [
        {
          "output_type": "stream",
          "text": [
            "\n",
            " ../data/hu-data/ae/laptop/train.json\n",
            "{'0': {'label': ['B',\n",
            "                 'O',\n",
            "                 'O',\n",
            "                 'O',\n",
            "                 'O',\n",
            "                 'O',\n",
            "                 'O',\n",
            "                 'B',\n",
            "                 'I',\n",
            "                 'O',\n",
            "                 'O',\n",
            "                 'O',\n",
            "                 'O',\n",
            "                 'O'],\n",
            "       'sentence': ['Keyboard',\n",
            "                    'is',\n",
            "                    'great',\n",
            "                    'but',\n",
            "                    'primary',\n",
            "                    'and',\n",
            "                    'secondary',\n",
            "                    'control',\n",
            "                    'buttons',\n",
            "                    'could',\n",
            "                    'be',\n",
            "                    'more',\n",
            "                    'durable',\n",
            "                    '.']}}\n",
            "\n",
            " ../data/hu-data/asc/laptop/train.json\n",
            "{'327_0': {'id': '327_0',\n",
            "           'polarity': 'positive',\n",
            "           'sentence': 'Also it is very good for college students who just '\n",
            "                       'need a reliable, easy to use computer.',\n",
            "           'term': 'use'}}\n"
          ],
          "name": "stdout"
        }
      ]
    },
    {
      "cell_type": "markdown",
      "metadata": {
        "id": "oGUKJLvrWntw"
      },
      "source": [
        "### Dev data"
      ]
    },
    {
      "cell_type": "code",
      "metadata": {
        "colab": {
          "base_uri": "https://localhost:8080/"
        },
        "id": "_pmG1iPZWntx",
        "outputId": "9aecedfe-fe69-4ed8-af86-4e55892a6aef"
      },
      "source": [
        "ae_laptop_dev  = read_json('../data/hu-data/ae/laptop/dev.json')\n",
        "\n",
        "\n",
        "asc_laptop_dev = read_json('../data/hu-data/asc/laptop/dev.json')"
      ],
      "execution_count": 17,
      "outputs": [
        {
          "output_type": "stream",
          "text": [
            "\n",
            " ../data/hu-data/ae/laptop/dev.json\n",
            "{'0': {'label': ['O',\n",
            "                 'O',\n",
            "                 'O',\n",
            "                 'O',\n",
            "                 'O',\n",
            "                 'O',\n",
            "                 'O',\n",
            "                 'O',\n",
            "                 'O',\n",
            "                 'O',\n",
            "                 'O',\n",
            "                 'O',\n",
            "                 'O',\n",
            "                 'O',\n",
            "                 'O',\n",
            "                 'O',\n",
            "                 'O',\n",
            "                 'O'],\n",
            "       'sentence': ['I',\n",
            "                    'have',\n",
            "                    'had',\n",
            "                    'this',\n",
            "                    'laptop',\n",
            "                    'for',\n",
            "                    'a',\n",
            "                    'few',\n",
            "                    'months',\n",
            "                    'now',\n",
            "                    'and',\n",
            "                    'i',\n",
            "                    'would',\n",
            "                    'say',\n",
            "                    'im',\n",
            "                    'pretty',\n",
            "                    'satisfied',\n",
            "                    '.']}}\n",
            "\n",
            " ../data/hu-data/asc/laptop/dev.json\n",
            "{'1113_0': {'id': '1113_0',\n",
            "            'polarity': 'negative',\n",
            "            'sentence': 'Not even safe mode boots.',\n",
            "            'term': 'safe mode'}}\n"
          ],
          "name": "stdout"
        }
      ]
    },
    {
      "cell_type": "markdown",
      "metadata": {
        "id": "9_qex8X-Wntx"
      },
      "source": [
        "### Test data"
      ]
    },
    {
      "cell_type": "code",
      "metadata": {
        "colab": {
          "base_uri": "https://localhost:8080/"
        },
        "id": "WHd4bZ6LWntx",
        "outputId": "ee34c82e-0541-4be7-e5a5-5d8fc8656c21"
      },
      "source": [
        "ae_laptop_test  = read_json('../data/hu-data/ae/laptop/test.json')\n",
        "\n",
        "\n",
        "asc_laptop_test = read_json('../data/hu-data/asc/laptop/test.json')"
      ],
      "execution_count": 18,
      "outputs": [
        {
          "output_type": "stream",
          "text": [
            "\n",
            " ../data/hu-data/ae/laptop/test.json\n",
            "{'0': {'label': ['B',\n",
            "                 'I',\n",
            "                 'O',\n",
            "                 'O',\n",
            "                 'O',\n",
            "                 'O',\n",
            "                 'O',\n",
            "                 'O',\n",
            "                 'O',\n",
            "                 'O',\n",
            "                 'O',\n",
            "                 'O',\n",
            "                 'O',\n",
            "                 'O',\n",
            "                 'O'],\n",
            "       'sentence': ['Boot',\n",
            "                    'time',\n",
            "                    'is',\n",
            "                    'super',\n",
            "                    'fast',\n",
            "                    ',',\n",
            "                    'around',\n",
            "                    'anywhere',\n",
            "                    'from',\n",
            "                    '35',\n",
            "                    'seconds',\n",
            "                    'to',\n",
            "                    '1',\n",
            "                    'minute',\n",
            "                    '.']}}\n",
            "\n",
            " ../data/hu-data/asc/laptop/test.json\n",
            "{'718:1_0': {'id': '718:1_0',\n",
            "             'polarity': 'positive',\n",
            "             'sentence': 'the retina display display make pictures i took '\n",
            "                         'years ago jaw dropping.',\n",
            "             'term': 'retina display display'}}\n"
          ],
          "name": "stdout"
        }
      ]
    },
    {
      "cell_type": "markdown",
      "metadata": {
        "id": "Vx42-tmPWnty"
      },
      "source": [
        "### Convert to df"
      ]
    },
    {
      "cell_type": "code",
      "metadata": {
        "colab": {
          "base_uri": "https://localhost:8080/",
          "height": 793
        },
        "id": "JxruPHnaWnty",
        "outputId": "e09bec6e-7835-456e-8cc4-33a1dc098f4e"
      },
      "source": [
        "ae_laptop_train_df = pd.DataFrame.from_dict(ae_laptop_train,orient='index')\n",
        "ae_laptop_train_df.head()\n",
        "\n",
        "ae_laptop_dev_df = pd.DataFrame.from_dict(ae_laptop_dev,orient='index')\n",
        "ae_laptop_dev_df.head()\n",
        "\n",
        "ae_laptop_test_df = pd.DataFrame.from_dict(ae_laptop_test,orient='index')\n",
        "ae_laptop_test_df"
      ],
      "execution_count": 19,
      "outputs": [
        {
          "output_type": "execute_result",
          "data": {
            "text/html": [
              "<div>\n",
              "<style scoped>\n",
              "    .dataframe tbody tr th:only-of-type {\n",
              "        vertical-align: middle;\n",
              "    }\n",
              "\n",
              "    .dataframe tbody tr th {\n",
              "        vertical-align: top;\n",
              "    }\n",
              "\n",
              "    .dataframe thead th {\n",
              "        text-align: right;\n",
              "    }\n",
              "</style>\n",
              "<table border=\"1\" class=\"dataframe\">\n",
              "  <thead>\n",
              "    <tr style=\"text-align: right;\">\n",
              "      <th></th>\n",
              "      <th>label</th>\n",
              "      <th>sentence</th>\n",
              "    </tr>\n",
              "  </thead>\n",
              "  <tbody>\n",
              "    <tr>\n",
              "      <th>0</th>\n",
              "      <td>[B, O, O, O, O, O, O, B, I, O, O, O, O, O]</td>\n",
              "      <td>[Keyboard, is, great, but, primary, and, secon...</td>\n",
              "    </tr>\n",
              "    <tr>\n",
              "      <th>1</th>\n",
              "      <td>[O, O, O, O, O, O, O, O, O, O, O, O, O, O]</td>\n",
              "      <td>[I, bought, this, laptop, about, a, month, ago...</td>\n",
              "    </tr>\n",
              "    <tr>\n",
              "      <th>2</th>\n",
              "      <td>[O, O, O, O, O, O, O, O, O, O, O, O]</td>\n",
              "      <td>[I, am, however, pleased, that, it, is, still,...</td>\n",
              "    </tr>\n",
              "    <tr>\n",
              "      <th>3</th>\n",
              "      <td>[O, O, O, O, O, O, O, O, O, O, O, O, O, O, O, O]</td>\n",
              "      <td>[I, went, to, my, local, Best, Buy, looking, f...</td>\n",
              "    </tr>\n",
              "    <tr>\n",
              "      <th>4</th>\n",
              "      <td>[O, O, O, O, O, O, O, O, O, O, O, O, O, O, O, ...</td>\n",
              "      <td>[The, Apple, MC371LL/, A, 2.4Ghz, 15.4-, inch,...</td>\n",
              "    </tr>\n",
              "  </tbody>\n",
              "</table>\n",
              "</div>"
            ],
            "text/plain": [
              "                                               label                                           sentence\n",
              "0         [B, O, O, O, O, O, O, B, I, O, O, O, O, O]  [Keyboard, is, great, but, primary, and, secon...\n",
              "1         [O, O, O, O, O, O, O, O, O, O, O, O, O, O]  [I, bought, this, laptop, about, a, month, ago...\n",
              "2               [O, O, O, O, O, O, O, O, O, O, O, O]  [I, am, however, pleased, that, it, is, still,...\n",
              "3   [O, O, O, O, O, O, O, O, O, O, O, O, O, O, O, O]  [I, went, to, my, local, Best, Buy, looking, f...\n",
              "4  [O, O, O, O, O, O, O, O, O, O, O, O, O, O, O, ...  [The, Apple, MC371LL/, A, 2.4Ghz, 15.4-, inch,..."
            ]
          },
          "metadata": {
            "tags": []
          },
          "execution_count": 19
        },
        {
          "output_type": "execute_result",
          "data": {
            "text/html": [
              "<div>\n",
              "<style scoped>\n",
              "    .dataframe tbody tr th:only-of-type {\n",
              "        vertical-align: middle;\n",
              "    }\n",
              "\n",
              "    .dataframe tbody tr th {\n",
              "        vertical-align: top;\n",
              "    }\n",
              "\n",
              "    .dataframe thead th {\n",
              "        text-align: right;\n",
              "    }\n",
              "</style>\n",
              "<table border=\"1\" class=\"dataframe\">\n",
              "  <thead>\n",
              "    <tr style=\"text-align: right;\">\n",
              "      <th></th>\n",
              "      <th>label</th>\n",
              "      <th>sentence</th>\n",
              "    </tr>\n",
              "  </thead>\n",
              "  <tbody>\n",
              "    <tr>\n",
              "      <th>0</th>\n",
              "      <td>[O, O, O, O, O, O, O, O, O, O, O, O, O, O, O, ...</td>\n",
              "      <td>[I, have, had, this, laptop, for, a, few, mont...</td>\n",
              "    </tr>\n",
              "    <tr>\n",
              "      <th>1</th>\n",
              "      <td>[O, O, O, O, B, I, O, O, O, O, O, O, B, O, O, ...</td>\n",
              "      <td>[Additional, caveat, :, the, base, installatio...</td>\n",
              "    </tr>\n",
              "    <tr>\n",
              "      <th>2</th>\n",
              "      <td>[O, O, O, O, B, O, O, O, O, B, O, O, O, O, O, ...</td>\n",
              "      <td>[it, is, of, high, quality, ,, has, a, killer,...</td>\n",
              "    </tr>\n",
              "    <tr>\n",
              "      <th>3</th>\n",
              "      <td>[O, B, O, O, O, O, O, O, O, O, O, O, O, O]</td>\n",
              "      <td>[The, screen, gets, smeary, and, dusty, very, ...</td>\n",
              "    </tr>\n",
              "    <tr>\n",
              "      <th>4</th>\n",
              "      <td>[O, O, O, O, O, O, O, O, O, O, O]</td>\n",
              "      <td>[I, previously, owned, an, HP, desktop, and, a...</td>\n",
              "    </tr>\n",
              "  </tbody>\n",
              "</table>\n",
              "</div>"
            ],
            "text/plain": [
              "                                               label                                           sentence\n",
              "0  [O, O, O, O, O, O, O, O, O, O, O, O, O, O, O, ...  [I, have, had, this, laptop, for, a, few, mont...\n",
              "1  [O, O, O, O, B, I, O, O, O, O, O, O, B, O, O, ...  [Additional, caveat, :, the, base, installatio...\n",
              "2  [O, O, O, O, B, O, O, O, O, B, O, O, O, O, O, ...  [it, is, of, high, quality, ,, has, a, killer,...\n",
              "3         [O, B, O, O, O, O, O, O, O, O, O, O, O, O]  [The, screen, gets, smeary, and, dusty, very, ...\n",
              "4                  [O, O, O, O, O, O, O, O, O, O, O]  [I, previously, owned, an, HP, desktop, and, a..."
            ]
          },
          "metadata": {
            "tags": []
          },
          "execution_count": 19
        },
        {
          "output_type": "execute_result",
          "data": {
            "text/html": [
              "<div>\n",
              "<style scoped>\n",
              "    .dataframe tbody tr th:only-of-type {\n",
              "        vertical-align: middle;\n",
              "    }\n",
              "\n",
              "    .dataframe tbody tr th {\n",
              "        vertical-align: top;\n",
              "    }\n",
              "\n",
              "    .dataframe thead th {\n",
              "        text-align: right;\n",
              "    }\n",
              "</style>\n",
              "<table border=\"1\" class=\"dataframe\">\n",
              "  <thead>\n",
              "    <tr style=\"text-align: right;\">\n",
              "      <th></th>\n",
              "      <th>label</th>\n",
              "      <th>sentence</th>\n",
              "    </tr>\n",
              "  </thead>\n",
              "  <tbody>\n",
              "    <tr>\n",
              "      <th>0</th>\n",
              "      <td>[B, I, O, O, O, O, O, O, O, O, O, O, O, O, O]</td>\n",
              "      <td>[Boot, time, is, super, fast, ,, around, anywh...</td>\n",
              "    </tr>\n",
              "    <tr>\n",
              "      <th>1</th>\n",
              "      <td>[B, I, O, O, O, O, O, O, O, O, O, O, O, O, O, ...</td>\n",
              "      <td>[tech, support, would, not, fix, the, problem,...</td>\n",
              "    </tr>\n",
              "    <tr>\n",
              "      <th>2</th>\n",
              "      <td>[O, O, O, O, O, O, O]</td>\n",
              "      <td>[but, in, resume, this, computer, rocks, !]</td>\n",
              "    </tr>\n",
              "    <tr>\n",
              "      <th>3</th>\n",
              "      <td>[B, I, O, O, O]</td>\n",
              "      <td>[Set, up, was, easy, .]</td>\n",
              "    </tr>\n",
              "    <tr>\n",
              "      <th>4</th>\n",
              "      <td>[O, O, O, O, O, B, I, O, B, I, O]</td>\n",
              "      <td>[Did, not, enjoy, the, new, Windows, 8, and, t...</td>\n",
              "    </tr>\n",
              "    <tr>\n",
              "      <th>...</th>\n",
              "      <td>...</td>\n",
              "      <td>...</td>\n",
              "    </tr>\n",
              "    <tr>\n",
              "      <th>795</th>\n",
              "      <td>[O, B, O, O, O, O, O, O, O, O, O, O, O, O, O, ...</td>\n",
              "      <td>[This, hardware, seems, to, be, better, than, ...</td>\n",
              "    </tr>\n",
              "    <tr>\n",
              "      <th>796</th>\n",
              "      <td>[O, O, O, O, O, O, O]</td>\n",
              "      <td>[I, 'm, done, with, WinDoze, computers, .]</td>\n",
              "    </tr>\n",
              "    <tr>\n",
              "      <th>797</th>\n",
              "      <td>[O, O, O, O, O, O, O, O, O, O, O, O, O, O, B, ...</td>\n",
              "      <td>[I, 've, had, it, for, about, 2, months, now, ...</td>\n",
              "    </tr>\n",
              "    <tr>\n",
              "      <th>798</th>\n",
              "      <td>[O, O, O, O, O, O, O, B, I, O]</td>\n",
              "      <td>[the, latest, version, does, not, have, a, dis...</td>\n",
              "    </tr>\n",
              "    <tr>\n",
              "      <th>799</th>\n",
              "      <td>[B, O, O, O, O, O, O, O, O, B, O, O, O, O, O, O]</td>\n",
              "      <td>[Screen, -, although, some, people, might, com...</td>\n",
              "    </tr>\n",
              "  </tbody>\n",
              "</table>\n",
              "<p>800 rows × 2 columns</p>\n",
              "</div>"
            ],
            "text/plain": [
              "                                                 label                                           sentence\n",
              "0        [B, I, O, O, O, O, O, O, O, O, O, O, O, O, O]  [Boot, time, is, super, fast, ,, around, anywh...\n",
              "1    [B, I, O, O, O, O, O, O, O, O, O, O, O, O, O, ...  [tech, support, would, not, fix, the, problem,...\n",
              "2                                [O, O, O, O, O, O, O]        [but, in, resume, this, computer, rocks, !]\n",
              "3                                      [B, I, O, O, O]                            [Set, up, was, easy, .]\n",
              "4                    [O, O, O, O, O, B, I, O, B, I, O]  [Did, not, enjoy, the, new, Windows, 8, and, t...\n",
              "..                                                 ...                                                ...\n",
              "795  [O, B, O, O, O, O, O, O, O, O, O, O, O, O, O, ...  [This, hardware, seems, to, be, better, than, ...\n",
              "796                              [O, O, O, O, O, O, O]         [I, 'm, done, with, WinDoze, computers, .]\n",
              "797  [O, O, O, O, O, O, O, O, O, O, O, O, O, O, B, ...  [I, 've, had, it, for, about, 2, months, now, ...\n",
              "798                     [O, O, O, O, O, O, O, B, I, O]  [the, latest, version, does, not, have, a, dis...\n",
              "799   [B, O, O, O, O, O, O, O, O, B, O, O, O, O, O, O]  [Screen, -, although, some, people, might, com...\n",
              "\n",
              "[800 rows x 2 columns]"
            ]
          },
          "metadata": {
            "tags": []
          },
          "execution_count": 19
        }
      ]
    },
    {
      "cell_type": "code",
      "metadata": {
        "colab": {
          "base_uri": "https://localhost:8080/",
          "height": 578
        },
        "id": "CxXe21u7Wntz",
        "outputId": "9b423c40-a77d-49b4-b9f8-6125899d6fd1"
      },
      "source": [
        "asc_laptop_train_df = pd.DataFrame.from_dict(asc_laptop_train,orient='index')\n",
        "asc_laptop_train_df.head()\n",
        "asc_laptop_dev_df = pd.DataFrame.from_dict(asc_laptop_dev,orient='index')\n",
        "asc_laptop_dev_df.head()\n",
        "asc_laptop_test_df = pd.DataFrame.from_dict(asc_laptop_test,orient='index')\n",
        "asc_laptop_test_df.head()"
      ],
      "execution_count": 20,
      "outputs": [
        {
          "output_type": "execute_result",
          "data": {
            "text/html": [
              "<div>\n",
              "<style scoped>\n",
              "    .dataframe tbody tr th:only-of-type {\n",
              "        vertical-align: middle;\n",
              "    }\n",
              "\n",
              "    .dataframe tbody tr th {\n",
              "        vertical-align: top;\n",
              "    }\n",
              "\n",
              "    .dataframe thead th {\n",
              "        text-align: right;\n",
              "    }\n",
              "</style>\n",
              "<table border=\"1\" class=\"dataframe\">\n",
              "  <thead>\n",
              "    <tr style=\"text-align: right;\">\n",
              "      <th></th>\n",
              "      <th>polarity</th>\n",
              "      <th>term</th>\n",
              "      <th>id</th>\n",
              "      <th>sentence</th>\n",
              "    </tr>\n",
              "  </thead>\n",
              "  <tbody>\n",
              "    <tr>\n",
              "      <th>327_0</th>\n",
              "      <td>positive</td>\n",
              "      <td>use</td>\n",
              "      <td>327_0</td>\n",
              "      <td>Also it is very good for college students who ...</td>\n",
              "    </tr>\n",
              "    <tr>\n",
              "      <th>3077_0</th>\n",
              "      <td>positive</td>\n",
              "      <td>noise</td>\n",
              "      <td>3077_0</td>\n",
              "      <td>For those that care about noise this thing doe...</td>\n",
              "    </tr>\n",
              "    <tr>\n",
              "      <th>1592_1</th>\n",
              "      <td>positive</td>\n",
              "      <td>force</td>\n",
              "      <td>1592_1</td>\n",
              "      <td>Enjoy that Toshib force and durability unparal...</td>\n",
              "    </tr>\n",
              "    <tr>\n",
              "      <th>329_0</th>\n",
              "      <td>negative</td>\n",
              "      <td>expense</td>\n",
              "      <td>329_0</td>\n",
              "      <td>I know that everyone thinks Macs are overprice...</td>\n",
              "    </tr>\n",
              "    <tr>\n",
              "      <th>1184_0</th>\n",
              "      <td>negative</td>\n",
              "      <td>word processor</td>\n",
              "      <td>1184_0</td>\n",
              "      <td>) And printing from either word processor is a...</td>\n",
              "    </tr>\n",
              "  </tbody>\n",
              "</table>\n",
              "</div>"
            ],
            "text/plain": [
              "        polarity  ...                                           sentence\n",
              "327_0   positive  ...  Also it is very good for college students who ...\n",
              "3077_0  positive  ...  For those that care about noise this thing doe...\n",
              "1592_1  positive  ...  Enjoy that Toshib force and durability unparal...\n",
              "329_0   negative  ...  I know that everyone thinks Macs are overprice...\n",
              "1184_0  negative  ...  ) And printing from either word processor is a...\n",
              "\n",
              "[5 rows x 4 columns]"
            ]
          },
          "metadata": {
            "tags": []
          },
          "execution_count": 20
        },
        {
          "output_type": "execute_result",
          "data": {
            "text/html": [
              "<div>\n",
              "<style scoped>\n",
              "    .dataframe tbody tr th:only-of-type {\n",
              "        vertical-align: middle;\n",
              "    }\n",
              "\n",
              "    .dataframe tbody tr th {\n",
              "        vertical-align: top;\n",
              "    }\n",
              "\n",
              "    .dataframe thead th {\n",
              "        text-align: right;\n",
              "    }\n",
              "</style>\n",
              "<table border=\"1\" class=\"dataframe\">\n",
              "  <thead>\n",
              "    <tr style=\"text-align: right;\">\n",
              "      <th></th>\n",
              "      <th>polarity</th>\n",
              "      <th>term</th>\n",
              "      <th>id</th>\n",
              "      <th>sentence</th>\n",
              "    </tr>\n",
              "  </thead>\n",
              "  <tbody>\n",
              "    <tr>\n",
              "      <th>1113_0</th>\n",
              "      <td>negative</td>\n",
              "      <td>safe mode</td>\n",
              "      <td>1113_0</td>\n",
              "      <td>Not even safe mode boots.</td>\n",
              "    </tr>\n",
              "    <tr>\n",
              "      <th>2595_0</th>\n",
              "      <td>positive</td>\n",
              "      <td>Keyboard</td>\n",
              "      <td>2595_0</td>\n",
              "      <td>Keyboard was also very nice and had a solid feel.</td>\n",
              "    </tr>\n",
              "    <tr>\n",
              "      <th>1039_0</th>\n",
              "      <td>negative</td>\n",
              "      <td>Keyboard</td>\n",
              "      <td>1039_0</td>\n",
              "      <td>Keyboard is plastic and spongey feeling.</td>\n",
              "    </tr>\n",
              "    <tr>\n",
              "      <th>315_0</th>\n",
              "      <td>positive</td>\n",
              "      <td>quality</td>\n",
              "      <td>315_0</td>\n",
              "      <td>I would recommend this laptop to anyone lookin...</td>\n",
              "    </tr>\n",
              "    <tr>\n",
              "      <th>1284_0</th>\n",
              "      <td>negative</td>\n",
              "      <td>screen</td>\n",
              "      <td>1284_0</td>\n",
              "      <td>Thus, when you carry it at a slanted angle, th...</td>\n",
              "    </tr>\n",
              "  </tbody>\n",
              "</table>\n",
              "</div>"
            ],
            "text/plain": [
              "        polarity  ...                                           sentence\n",
              "1113_0  negative  ...                          Not even safe mode boots.\n",
              "2595_0  positive  ...  Keyboard was also very nice and had a solid feel.\n",
              "1039_0  negative  ...           Keyboard is plastic and spongey feeling.\n",
              "315_0   positive  ...  I would recommend this laptop to anyone lookin...\n",
              "1284_0  negative  ...  Thus, when you carry it at a slanted angle, th...\n",
              "\n",
              "[5 rows x 4 columns]"
            ]
          },
          "metadata": {
            "tags": []
          },
          "execution_count": 20
        },
        {
          "output_type": "execute_result",
          "data": {
            "text/html": [
              "<div>\n",
              "<style scoped>\n",
              "    .dataframe tbody tr th:only-of-type {\n",
              "        vertical-align: middle;\n",
              "    }\n",
              "\n",
              "    .dataframe tbody tr th {\n",
              "        vertical-align: top;\n",
              "    }\n",
              "\n",
              "    .dataframe thead th {\n",
              "        text-align: right;\n",
              "    }\n",
              "</style>\n",
              "<table border=\"1\" class=\"dataframe\">\n",
              "  <thead>\n",
              "    <tr style=\"text-align: right;\">\n",
              "      <th></th>\n",
              "      <th>polarity</th>\n",
              "      <th>term</th>\n",
              "      <th>id</th>\n",
              "      <th>sentence</th>\n",
              "    </tr>\n",
              "  </thead>\n",
              "  <tbody>\n",
              "    <tr>\n",
              "      <th>718:1_0</th>\n",
              "      <td>positive</td>\n",
              "      <td>retina display display</td>\n",
              "      <td>718:1_0</td>\n",
              "      <td>the retina display display make pictures i too...</td>\n",
              "    </tr>\n",
              "    <tr>\n",
              "      <th>217:1_1</th>\n",
              "      <td>neutral</td>\n",
              "      <td>CD/DVD drive</td>\n",
              "      <td>217:1_1</td>\n",
              "      <td>Needs a CD/DVD drive and a bigger power switch.</td>\n",
              "    </tr>\n",
              "    <tr>\n",
              "      <th>217:1_0</th>\n",
              "      <td>negative</td>\n",
              "      <td>power switch</td>\n",
              "      <td>217:1_0</td>\n",
              "      <td>Needs a CD/DVD drive and a bigger power switch.</td>\n",
              "    </tr>\n",
              "    <tr>\n",
              "      <th>1044:1_0</th>\n",
              "      <td>negative</td>\n",
              "      <td>battery</td>\n",
              "      <td>1044:1_0</td>\n",
              "      <td>The battery is not as shown in the product pho...</td>\n",
              "    </tr>\n",
              "    <tr>\n",
              "      <th>1040:1_0</th>\n",
              "      <td>negative</td>\n",
              "      <td>keyboard</td>\n",
              "      <td>1040:1_0</td>\n",
              "      <td>It feels cheap, the keyboard is not very sensi...</td>\n",
              "    </tr>\n",
              "  </tbody>\n",
              "</table>\n",
              "</div>"
            ],
            "text/plain": [
              "          polarity  ...                                           sentence\n",
              "718:1_0   positive  ...  the retina display display make pictures i too...\n",
              "217:1_1    neutral  ...    Needs a CD/DVD drive and a bigger power switch.\n",
              "217:1_0   negative  ...    Needs a CD/DVD drive and a bigger power switch.\n",
              "1044:1_0  negative  ...  The battery is not as shown in the product pho...\n",
              "1040:1_0  negative  ...  It feels cheap, the keyboard is not very sensi...\n",
              "\n",
              "[5 rows x 4 columns]"
            ]
          },
          "metadata": {
            "tags": []
          },
          "execution_count": 20
        }
      ]
    },
    {
      "cell_type": "markdown",
      "metadata": {
        "id": "q97dA-oNWntz"
      },
      "source": [
        "## AE baseline - NN+"
      ]
    },
    {
      "cell_type": "code",
      "metadata": {
        "id": "T068QDzsWntz",
        "outputId": "6c502996-3899-4dd4-ee73-10c0ebd0db5d"
      },
      "source": [
        "def pos_ae(tokenized_sentence):\n",
        "    \"\"\"\n",
        "    Tag sentences using POS tagger and identify consecutive nouns as entities\n",
        "    \"\"\"\n",
        "    pos_sent = tokenized_sentence.apply(lambda sent:nltk.pos_tag(sent,tagset='universal'))\n",
        "    \n",
        "    \n",
        "    # tag with IOB terminology\n",
        "    ae_tag = lambda sent:['O' if token[1] != 'NOUN' \n",
        "                          else 'B' if ((token[1]=='NOUN') & ((sent[ind-1][1]!='NOUN') | (ind==0))) \n",
        "                          else 'I' for ind,token in enumerate(sent)]\n",
        "\n",
        "    return(pos_sent.apply(ae_tag))\n",
        "\n",
        "# since the POS tagger is based on the words themselves and not context.\n",
        "ae_laptop_test_df['predictions'] = pos_ae(ae_laptop_test_df['sentence'])\n",
        "ae_laptop_test_df.head()\n",
        "\n",
        "def convert_int(tagged_tokens):\n",
        "    \"\"\"\n",
        "    Convert B,I,O tags to integers\n",
        "    \"\"\"\n",
        "    return(tagged_tokens.apply(lambda sent: [0 if token=='O' else 1 if token=='B' else 2 for token in sent]))\n",
        "\n",
        "convert_int(ae_laptop_test_df['predictions'])\n"
      ],
      "execution_count": null,
      "outputs": [
        {
          "output_type": "execute_result",
          "data": {
            "text/html": [
              "<div>\n",
              "<style scoped>\n",
              "    .dataframe tbody tr th:only-of-type {\n",
              "        vertical-align: middle;\n",
              "    }\n",
              "\n",
              "    .dataframe tbody tr th {\n",
              "        vertical-align: top;\n",
              "    }\n",
              "\n",
              "    .dataframe thead th {\n",
              "        text-align: right;\n",
              "    }\n",
              "</style>\n",
              "<table border=\"1\" class=\"dataframe\">\n",
              "  <thead>\n",
              "    <tr style=\"text-align: right;\">\n",
              "      <th></th>\n",
              "      <th>label</th>\n",
              "      <th>sentence</th>\n",
              "      <th>predictions</th>\n",
              "    </tr>\n",
              "  </thead>\n",
              "  <tbody>\n",
              "    <tr>\n",
              "      <th>0</th>\n",
              "      <td>[B, I, O, O, O, O, O, O, O, O, O, O, O, O, O]</td>\n",
              "      <td>[Boot, time, is, super, fast, ,, around, anywh...</td>\n",
              "      <td>[B, I, O, O, O, O, O, O, O, O, B, O, O, B, O]</td>\n",
              "    </tr>\n",
              "    <tr>\n",
              "      <th>1</th>\n",
              "      <td>[B, I, O, O, O, O, O, O, O, O, O, O, O, O, O, ...</td>\n",
              "      <td>[tech, support, would, not, fix, the, problem,...</td>\n",
              "      <td>[O, B, O, O, O, O, B, O, O, O, O, B, O, O, O, ...</td>\n",
              "    </tr>\n",
              "    <tr>\n",
              "      <th>2</th>\n",
              "      <td>[O, O, O, O, O, O, O]</td>\n",
              "      <td>[but, in, resume, this, computer, rocks, !]</td>\n",
              "      <td>[O, O, B, O, B, O, O]</td>\n",
              "    </tr>\n",
              "    <tr>\n",
              "      <th>3</th>\n",
              "      <td>[B, I, O, O, O]</td>\n",
              "      <td>[Set, up, was, easy, .]</td>\n",
              "      <td>[B, O, O, O, O]</td>\n",
              "    </tr>\n",
              "    <tr>\n",
              "      <th>4</th>\n",
              "      <td>[O, O, O, O, O, B, I, O, B, I, O]</td>\n",
              "      <td>[Did, not, enjoy, the, new, Windows, 8, and, t...</td>\n",
              "      <td>[B, O, O, O, O, B, O, O, O, B, O]</td>\n",
              "    </tr>\n",
              "  </tbody>\n",
              "</table>\n",
              "</div>"
            ],
            "text/plain": [
              "                                               label  \\\n",
              "0      [B, I, O, O, O, O, O, O, O, O, O, O, O, O, O]   \n",
              "1  [B, I, O, O, O, O, O, O, O, O, O, O, O, O, O, ...   \n",
              "2                              [O, O, O, O, O, O, O]   \n",
              "3                                    [B, I, O, O, O]   \n",
              "4                  [O, O, O, O, O, B, I, O, B, I, O]   \n",
              "\n",
              "                                            sentence  \\\n",
              "0  [Boot, time, is, super, fast, ,, around, anywh...   \n",
              "1  [tech, support, would, not, fix, the, problem,...   \n",
              "2        [but, in, resume, this, computer, rocks, !]   \n",
              "3                            [Set, up, was, easy, .]   \n",
              "4  [Did, not, enjoy, the, new, Windows, 8, and, t...   \n",
              "\n",
              "                                         predictions  \n",
              "0      [B, I, O, O, O, O, O, O, O, O, B, O, O, B, O]  \n",
              "1  [O, B, O, O, O, O, B, O, O, O, O, B, O, O, O, ...  \n",
              "2                              [O, O, B, O, B, O, O]  \n",
              "3                                    [B, O, O, O, O]  \n",
              "4                  [B, O, O, O, O, B, O, O, O, B, O]  "
            ]
          },
          "metadata": {
            "tags": []
          },
          "execution_count": 45
        },
        {
          "output_type": "execute_result",
          "data": {
            "text/plain": [
              "0          [1, 2, 0, 0, 0, 0, 0, 0, 0, 0, 1, 0, 0, 1, 0]\n",
              "1      [0, 1, 0, 0, 0, 0, 1, 0, 0, 0, 0, 1, 0, 0, 0, ...\n",
              "2                                  [0, 0, 1, 0, 1, 0, 0]\n",
              "3                                        [1, 0, 0, 0, 0]\n",
              "4                      [1, 0, 0, 0, 0, 1, 0, 0, 0, 1, 0]\n",
              "                             ...                        \n",
              "795    [0, 1, 0, 0, 0, 0, 0, 0, 1, 0, 0, 0, 0, 0, 0, ...\n",
              "796                                [0, 0, 0, 0, 1, 2, 0]\n",
              "797    [0, 0, 0, 0, 0, 0, 0, 1, 0, 0, 0, 0, 1, 0, 1, ...\n",
              "798                       [0, 0, 1, 0, 0, 0, 0, 0, 1, 0]\n",
              "799     [1, 0, 0, 0, 1, 0, 0, 0, 0, 1, 0, 0, 0, 0, 0, 0]\n",
              "Name: predictions, Length: 800, dtype: object"
            ]
          },
          "metadata": {
            "tags": []
          },
          "execution_count": 45
        }
      ]
    },
    {
      "cell_type": "markdown",
      "metadata": {
        "id": "d67h2o_MWnt0"
      },
      "source": [
        "## AE Regex Parser - business rules"
      ]
    },
    {
      "cell_type": "code",
      "metadata": {
        "id": "XJK1PwSdWnt0",
        "outputId": "122fc7e4-7f78-4798-9ef3-582308d5508f"
      },
      "source": [
        "# try a more sophisticated method for chunking\n",
        "def regex_parser(tokenized_sentence,verbose=False):\n",
        "    \"\"\"\n",
        "    Use a Regex Parser to provide some context around noun phrases\n",
        "    \"\"\"\n",
        "    pos_sent = nltk.pos_tag(tokenized_sentence)\n",
        "#     print(pos_sent)\n",
        "#     grammar = r\"\"\"\n",
        "#       NP: {<DT|PP\\$>?<JJ>*<NN>}   # chunk determiner/possessive, adjectives and noun\n",
        "#           {<NNP>+}                # chunk sequences of proper nouns\n",
        "#     \"\"\"\n",
        "    \n",
        "    # Update Grammar Regex to include prepositional phrases ala Semeval annotation guidelines\n",
        "    grammar = r\"\"\"\n",
        "    NP: {<NN><IN><DT><NN|NNP>+}\n",
        "        {<NNP><NN>}\n",
        "        {<NNP>+}\n",
        "        {<NN>+}\n",
        "        \n",
        "    \"\"\"\n",
        "    \n",
        "    cp = nltk.RegexpParser(grammar)\n",
        "\n",
        "    tree = cp.parse(pos_sent)\n",
        "    \n",
        "    if verbose: print(tree)\n",
        "    \n",
        "    iob = [el[2][0] for el in nltk.chunk.util.tree2conlltags(tree)]\n",
        "    return(iob)\n",
        "\n",
        "# since the POS tagger is based on the words themselves and not context.\n",
        "ae_laptop_test_df['predictions_1'] = ae_laptop_test_df['sentence'].apply(lambda x: regex_parser(x))\n",
        "ae_laptop_test_df.head()\n"
      ],
      "execution_count": null,
      "outputs": [
        {
          "output_type": "execute_result",
          "data": {
            "text/html": [
              "<div>\n",
              "<style scoped>\n",
              "    .dataframe tbody tr th:only-of-type {\n",
              "        vertical-align: middle;\n",
              "    }\n",
              "\n",
              "    .dataframe tbody tr th {\n",
              "        vertical-align: top;\n",
              "    }\n",
              "\n",
              "    .dataframe thead th {\n",
              "        text-align: right;\n",
              "    }\n",
              "</style>\n",
              "<table border=\"1\" class=\"dataframe\">\n",
              "  <thead>\n",
              "    <tr style=\"text-align: right;\">\n",
              "      <th></th>\n",
              "      <th>label</th>\n",
              "      <th>sentence</th>\n",
              "      <th>predictions</th>\n",
              "      <th>predictions_1</th>\n",
              "    </tr>\n",
              "  </thead>\n",
              "  <tbody>\n",
              "    <tr>\n",
              "      <th>0</th>\n",
              "      <td>[B, I, O, O, O, O, O, O, O, O, O, O, O, O, O]</td>\n",
              "      <td>[Boot, time, is, super, fast, ,, around, anywh...</td>\n",
              "      <td>[B, I, O, O, O, O, O, O, O, O, B, O, O, B, O]</td>\n",
              "      <td>[B, I, O, O, O, O, O, O, O, O, O, O, O, B, O]</td>\n",
              "    </tr>\n",
              "    <tr>\n",
              "      <th>1</th>\n",
              "      <td>[B, I, O, O, O, O, O, O, O, O, O, O, O, O, O, ...</td>\n",
              "      <td>[tech, support, would, not, fix, the, problem,...</td>\n",
              "      <td>[O, B, O, O, O, O, B, O, O, O, O, B, O, O, O, ...</td>\n",
              "      <td>[O, B, O, O, O, O, B, O, O, O, O, B, O, O, O, ...</td>\n",
              "    </tr>\n",
              "    <tr>\n",
              "      <th>2</th>\n",
              "      <td>[O, O, O, O, O, O, O]</td>\n",
              "      <td>[but, in, resume, this, computer, rocks, !]</td>\n",
              "      <td>[O, O, B, O, B, O, O]</td>\n",
              "      <td>[O, O, B, O, B, O, O]</td>\n",
              "    </tr>\n",
              "    <tr>\n",
              "      <th>3</th>\n",
              "      <td>[B, I, O, O, O]</td>\n",
              "      <td>[Set, up, was, easy, .]</td>\n",
              "      <td>[B, O, O, O, O]</td>\n",
              "      <td>[B, O, O, O, O]</td>\n",
              "    </tr>\n",
              "    <tr>\n",
              "      <th>4</th>\n",
              "      <td>[O, O, O, O, O, B, I, O, B, I, O]</td>\n",
              "      <td>[Did, not, enjoy, the, new, Windows, 8, and, t...</td>\n",
              "      <td>[B, O, O, O, O, B, O, O, O, B, O]</td>\n",
              "      <td>[B, O, O, O, O, B, O, O, O, O, O]</td>\n",
              "    </tr>\n",
              "  </tbody>\n",
              "</table>\n",
              "</div>"
            ],
            "text/plain": [
              "                                               label  \\\n",
              "0      [B, I, O, O, O, O, O, O, O, O, O, O, O, O, O]   \n",
              "1  [B, I, O, O, O, O, O, O, O, O, O, O, O, O, O, ...   \n",
              "2                              [O, O, O, O, O, O, O]   \n",
              "3                                    [B, I, O, O, O]   \n",
              "4                  [O, O, O, O, O, B, I, O, B, I, O]   \n",
              "\n",
              "                                            sentence  \\\n",
              "0  [Boot, time, is, super, fast, ,, around, anywh...   \n",
              "1  [tech, support, would, not, fix, the, problem,...   \n",
              "2        [but, in, resume, this, computer, rocks, !]   \n",
              "3                            [Set, up, was, easy, .]   \n",
              "4  [Did, not, enjoy, the, new, Windows, 8, and, t...   \n",
              "\n",
              "                                         predictions  \\\n",
              "0      [B, I, O, O, O, O, O, O, O, O, B, O, O, B, O]   \n",
              "1  [O, B, O, O, O, O, B, O, O, O, O, B, O, O, O, ...   \n",
              "2                              [O, O, B, O, B, O, O]   \n",
              "3                                    [B, O, O, O, O]   \n",
              "4                  [B, O, O, O, O, B, O, O, O, B, O]   \n",
              "\n",
              "                                       predictions_1  \n",
              "0      [B, I, O, O, O, O, O, O, O, O, O, O, O, B, O]  \n",
              "1  [O, B, O, O, O, O, B, O, O, O, O, B, O, O, O, ...  \n",
              "2                              [O, O, B, O, B, O, O]  \n",
              "3                                    [B, O, O, O, O]  \n",
              "4                  [B, O, O, O, O, B, O, O, O, O, O]  "
            ]
          },
          "metadata": {
            "tags": []
          },
          "execution_count": 46
        }
      ]
    },
    {
      "cell_type": "code",
      "metadata": {
        "id": "tTDVK7lqWnt1"
      },
      "source": [
        ""
      ],
      "execution_count": null,
      "outputs": []
    },
    {
      "cell_type": "markdown",
      "metadata": {
        "id": "l3WSn8ezWnt1"
      },
      "source": [
        "## AE evaluation - SemEval14"
      ]
    },
    {
      "cell_type": "markdown",
      "metadata": {
        "id": "0oUpSyKIWnt2"
      },
      "source": [
        "http://www.davidsbatista.net/blog/2018/05/09/Named_Entity_Evaluation/  \n",
        "- partial boundary match over the surface string"
      ]
    },
    {
      "cell_type": "code",
      "metadata": {
        "id": "F21cw8s1Wnt2"
      },
      "source": [
        "# TODO need to explore how we want to move forward with all sentences rather than just 1.\n",
        "# Should try to implement the SemEval14 evaluation criteria bc this is best practice"
      ],
      "execution_count": null,
      "outputs": []
    },
    {
      "cell_type": "code",
      "metadata": {
        "id": "CVdh5PJIWnt2",
        "outputId": "512ff5c6-7d1c-4c00-e4a0-6c1268df9631"
      },
      "source": [
        "# TODO amend this tree structure for all predictions as well\n",
        "print('\\nGold Standard:')\n",
        "# tag every sentence with the pos\n",
        "gold_tree = ae_laptop_test_df['sentence'].apply(lambda x: nltk.pos_tag(x))\n",
        "print(gold_tree)\n",
        "iob_gold_tree = [nltk.Tree('S',\n",
        "                           [(el[0], el[1], ae_laptop_test_df.iloc[tree_ind]['label'][ind])\n",
        "                            if ae_laptop_test_df.iloc[tree_ind]['label'][ind]=='O'\n",
        "                            else (el[0], el[1], ae_laptop_test_df.iloc[tree_ind]['label'][ind] + '-NP')\n",
        "                            for ind,el in enumerate(tree)])\n",
        "                for tree_ind, tree in enumerate(gold_tree)]\n",
        "ae_laptop_test_df['iob_gold_tree'] = iob_gold_tree\n",
        "ae_laptop_test_df.head()"
      ],
      "execution_count": null,
      "outputs": [
        {
          "output_type": "stream",
          "text": [
            "\n",
            "Gold Standard:\n",
            "0      [(Boot, NNP), (time, NN), (is, VBZ), (super, J...\n",
            "1      [(tech, JJ), (support, NN), (would, MD), (not,...\n",
            "2      [(but, CC), (in, IN), (resume, NN), (this, DT)...\n",
            "3      [(Set, NNP), (up, RP), (was, VBD), (easy, JJ),...\n",
            "4      [(Did, NNP), (not, RB), (enjoy, VB), (the, DT)...\n",
            "                             ...                        \n",
            "795    [(This, DT), (hardware, NN), (seems, VBZ), (to...\n",
            "796    [(I, PRP), ('m, VBP), (done, VBN), (with, IN),...\n",
            "797    [(I, PRP), ('ve, VBP), (had, VBD), (it, PRP), ...\n",
            "798    [(the, DT), (latest, JJS), (version, NN), (doe...\n",
            "799    [(Screen, NNP), (-, :), (although, IN), (some,...\n",
            "Name: sentence, Length: 800, dtype: object\n"
          ],
          "name": "stdout"
        },
        {
          "output_type": "execute_result",
          "data": {
            "text/html": [
              "<div>\n",
              "<style scoped>\n",
              "    .dataframe tbody tr th:only-of-type {\n",
              "        vertical-align: middle;\n",
              "    }\n",
              "\n",
              "    .dataframe tbody tr th {\n",
              "        vertical-align: top;\n",
              "    }\n",
              "\n",
              "    .dataframe thead th {\n",
              "        text-align: right;\n",
              "    }\n",
              "</style>\n",
              "<table border=\"1\" class=\"dataframe\">\n",
              "  <thead>\n",
              "    <tr style=\"text-align: right;\">\n",
              "      <th></th>\n",
              "      <th>label</th>\n",
              "      <th>sentence</th>\n",
              "      <th>predictions</th>\n",
              "      <th>predictions_1</th>\n",
              "      <th>iob_gold_tree</th>\n",
              "    </tr>\n",
              "  </thead>\n",
              "  <tbody>\n",
              "    <tr>\n",
              "      <th>0</th>\n",
              "      <td>[B, I, O, O, O, O, O, O, O, O, O, O, O, O, O]</td>\n",
              "      <td>[Boot, time, is, super, fast, ,, around, anywh...</td>\n",
              "      <td>[B, I, O, O, O, O, O, O, O, O, B, O, O, B, O]</td>\n",
              "      <td>[B, I, O, O, O, O, O, O, O, O, O, O, O, B, O]</td>\n",
              "      <td>[(Boot, NNP, B-NP), (time, NN, I-NP), (is, VBZ...</td>\n",
              "    </tr>\n",
              "    <tr>\n",
              "      <th>1</th>\n",
              "      <td>[B, I, O, O, O, O, O, O, O, O, O, O, O, O, O, ...</td>\n",
              "      <td>[tech, support, would, not, fix, the, problem,...</td>\n",
              "      <td>[O, B, O, O, O, O, B, O, O, O, O, B, O, O, O, ...</td>\n",
              "      <td>[O, B, O, O, O, O, B, O, O, O, O, B, O, O, O, ...</td>\n",
              "      <td>[(tech, JJ, B-NP), (support, NN, I-NP), (would...</td>\n",
              "    </tr>\n",
              "    <tr>\n",
              "      <th>2</th>\n",
              "      <td>[O, O, O, O, O, O, O]</td>\n",
              "      <td>[but, in, resume, this, computer, rocks, !]</td>\n",
              "      <td>[O, O, B, O, B, O, O]</td>\n",
              "      <td>[O, O, B, O, B, O, O]</td>\n",
              "      <td>[(but, CC, O), (in, IN, O), (resume, NN, O), (...</td>\n",
              "    </tr>\n",
              "    <tr>\n",
              "      <th>3</th>\n",
              "      <td>[B, I, O, O, O]</td>\n",
              "      <td>[Set, up, was, easy, .]</td>\n",
              "      <td>[B, O, O, O, O]</td>\n",
              "      <td>[B, O, O, O, O]</td>\n",
              "      <td>[(Set, NNP, B-NP), (up, RP, I-NP), (was, VBD, ...</td>\n",
              "    </tr>\n",
              "    <tr>\n",
              "      <th>4</th>\n",
              "      <td>[O, O, O, O, O, B, I, O, B, I, O]</td>\n",
              "      <td>[Did, not, enjoy, the, new, Windows, 8, and, t...</td>\n",
              "      <td>[B, O, O, O, O, B, O, O, O, B, O]</td>\n",
              "      <td>[B, O, O, O, O, B, O, O, O, O, O]</td>\n",
              "      <td>[(Did, NNP, O), (not, RB, O), (enjoy, VB, O), ...</td>\n",
              "    </tr>\n",
              "  </tbody>\n",
              "</table>\n",
              "</div>"
            ],
            "text/plain": [
              "                                               label  \\\n",
              "0      [B, I, O, O, O, O, O, O, O, O, O, O, O, O, O]   \n",
              "1  [B, I, O, O, O, O, O, O, O, O, O, O, O, O, O, ...   \n",
              "2                              [O, O, O, O, O, O, O]   \n",
              "3                                    [B, I, O, O, O]   \n",
              "4                  [O, O, O, O, O, B, I, O, B, I, O]   \n",
              "\n",
              "                                            sentence  \\\n",
              "0  [Boot, time, is, super, fast, ,, around, anywh...   \n",
              "1  [tech, support, would, not, fix, the, problem,...   \n",
              "2        [but, in, resume, this, computer, rocks, !]   \n",
              "3                            [Set, up, was, easy, .]   \n",
              "4  [Did, not, enjoy, the, new, Windows, 8, and, t...   \n",
              "\n",
              "                                         predictions  \\\n",
              "0      [B, I, O, O, O, O, O, O, O, O, B, O, O, B, O]   \n",
              "1  [O, B, O, O, O, O, B, O, O, O, O, B, O, O, O, ...   \n",
              "2                              [O, O, B, O, B, O, O]   \n",
              "3                                    [B, O, O, O, O]   \n",
              "4                  [B, O, O, O, O, B, O, O, O, B, O]   \n",
              "\n",
              "                                       predictions_1  \\\n",
              "0      [B, I, O, O, O, O, O, O, O, O, O, O, O, B, O]   \n",
              "1  [O, B, O, O, O, O, B, O, O, O, O, B, O, O, O, ...   \n",
              "2                              [O, O, B, O, B, O, O]   \n",
              "3                                    [B, O, O, O, O]   \n",
              "4                  [B, O, O, O, O, B, O, O, O, O, O]   \n",
              "\n",
              "                                       iob_gold_tree  \n",
              "0  [(Boot, NNP, B-NP), (time, NN, I-NP), (is, VBZ...  \n",
              "1  [(tech, JJ, B-NP), (support, NN, I-NP), (would...  \n",
              "2  [(but, CC, O), (in, IN, O), (resume, NN, O), (...  \n",
              "3  [(Set, NNP, B-NP), (up, RP, I-NP), (was, VBD, ...  \n",
              "4  [(Did, NNP, O), (not, RB, O), (enjoy, VB, O), ...  "
            ]
          },
          "metadata": {
            "tags": []
          },
          "execution_count": 49
        }
      ]
    },
    {
      "cell_type": "code",
      "metadata": {
        "id": "fkm4xxALWnt2"
      },
      "source": [
        "def get_entities(sentence_lst, predictions_lst):\n",
        "    \"\"\"\n",
        "    Reformat the IOB structure to get the actual entities from the sentence\n",
        "    \"\"\"\n",
        "    \n",
        "    # for every sentence, iterate through\n",
        "    all_entities = []\n",
        "    for sample in range(len(predictions_lst)):\n",
        "    \n",
        "        # get indices where entities are identified\n",
        "        predictions = np.array(predictions_lst[sample])\n",
        "        ind = (predictions == 'B') | (predictions == 'I')\n",
        "        \n",
        "        # create list of numerical indices and boolean indices. ex. [(4, True), (10, True), (11, True), (15, True)]\n",
        "        ind_tuple = [num_ind for num_ind in list(enumerate(ind)) if num_ind[1]==True]\n",
        "        \n",
        "        # get the sentence of interest. identify what these entities are\n",
        "        sentence = np.array(sentence_lst[sample])\n",
        "\n",
        "        # group the phrases together and add entities from each sentence\n",
        "        entities = []\n",
        "        for subset,num_ind_tuple in zip(sentence[ind], ind_tuple): # [('price', (4, True)), ('netbook', (10, True)), ('*', (11, True)), ('machine', (15, True))]\n",
        "            # put the B in entities\n",
        "            if predictions[num_ind_tuple[0]][0] == 'B':\n",
        "                entities.append([subset])\n",
        "            # if the tag is I, add to the last item of the list\n",
        "            elif predictions[num_ind_tuple[0]][0] == 'I':\n",
        "                last_entry = entities.pop()\n",
        "                last_entry.append(subset)\n",
        "                entities.append(last_entry)\n",
        "            # there should not be any 'O' indices here\n",
        "            else:\n",
        "                print('Error')\n",
        "        all_entities.append(entities)\n",
        "    return(all_entities)"
      ],
      "execution_count": null,
      "outputs": []
    },
    {
      "cell_type": "code",
      "metadata": {
        "id": "EUvVcUdsWnt3"
      },
      "source": [
        "def get_ae_eval_features(gold_entities,prediction_entities,verbose=False):\n",
        "    # TODO need to generalize and do for all samples\n",
        "    # TODO may later need to update these calculations to encompass sentence location.\n",
        "    y_true_df = pd.DataFrame([[ind,sub_el] for ind,el in enumerate(gold_entities) for sub_el in el], columns=['sample_index','entity'])\n",
        "    y_pred_df = pd.DataFrame([[ind,sub_el] for ind,el in enumerate(prediction_entities) for sub_el in el], columns=['sample_index','entity'])\n",
        "    print('True')\n",
        "    display(y_true_df.head())\n",
        "    print('Pred')\n",
        "    display(y_pred_df.head())\n",
        "\n",
        "    cor = 0\n",
        "    inc = 0\n",
        "    par = 0\n",
        "    mis = 0\n",
        "    spu = 0\n",
        "\n",
        "    for el in range(len(gold_entities)):\n",
        "        if verbose:\n",
        "            print('\\n',el)\n",
        "        true_subset = y_true_df[y_true_df.sample_index == el]\n",
        "        pred_subset = y_pred_df[y_pred_df.sample_index == el]\n",
        "        true_entities = set(true_subset.entity.apply(lambda x: '_'.join(x)))\n",
        "        pred_entities = set(pred_subset.entity.apply(lambda x: '_'.join(x)))\n",
        "        if verbose:\n",
        "            print('True')\n",
        "            print(true_entities)\n",
        "            print('Pred')\n",
        "            print(pred_entities)\n",
        "\n",
        "        # get correct\n",
        "        cor_entities = true_entities & pred_entities\n",
        "        if verbose:\n",
        "            print(f'Correct entities: {cor_entities}')\n",
        "        cor += len(cor_entities)\n",
        "        true_entities = true_entities - cor_entities\n",
        "        pred_entities = pred_entities - cor_entities\n",
        "\n",
        "        # get partial and missed\n",
        "        for true in true_entities:\n",
        "            # Take into account if the prediction contains a portion of the correct and if correct contains a portion of the prediction\n",
        "            par_entities = set([pred for pred in pred_entities if (true in pred) | (pred in true)])\n",
        "            if len(par_entities) != 0:\n",
        "                if verbose:\n",
        "                    print(f'Partial entities: {set([true])}')\n",
        "                par += len(par_entities)\n",
        "                true_entities = true_entities - set([true])\n",
        "                pred_entities = pred_entities - par_entities\n",
        "            else:\n",
        "                if verbose:\n",
        "                    print(f'Missed entities: {set([true])}')\n",
        "                mis += 1\n",
        "                true_entities = true_entities - set([true])\n",
        "\n",
        "        if len(true_entities) == 0:\n",
        "            if verbose:\n",
        "                print(f'Spurious entities: {pred_entities}')\n",
        "            spu += len(pred_entities)\n",
        "        else:\n",
        "            print('Error')\n",
        "\n",
        "    print(f'\\nCorrect: {cor}')\n",
        "    print(f'Partial: {par}')\n",
        "    print(f'Missed: {mis}')\n",
        "    print(f'Spurious: {spu}')\n",
        "    return(cor,par,mis,spu,inc)"
      ],
      "execution_count": null,
      "outputs": []
    },
    {
      "cell_type": "code",
      "metadata": {
        "id": "Ymn3-R9bWnt3",
        "outputId": "70e352ea-4cdf-47ae-8406-3dec1ef4f809"
      },
      "source": [
        "def get_ae_eval(sentence_lst, y_true, y_pred,verbose=False):\n",
        "    \"\"\"\n",
        "    Get entity recognition evaluations accoridng to the partial match SemEval strategy\n",
        "    \"\"\"\n",
        "    prediction_entities = get_entities(sentence_lst,y_pred)\n",
        "    gold_entities = get_entities(sentence_lst,y_true)\n",
        "    \n",
        "    cor,par,mis,spu,inc = get_ae_eval_features(gold_entities,prediction_entities,verbose=verbose)\n",
        "    \n",
        "    pos_eval = cor + inc + par + mis\n",
        "    act_eval = cor + inc + par + spu\n",
        "\n",
        "    precision = (cor + .5 * par) / act_eval\n",
        "    recall = (cor + .5 * par) / pos_eval\n",
        "    f1 = ( 2* precision * recall) / (precision + recall)\n",
        "    \n",
        "    print(f'\\nPrecision: \\t{precision}')\n",
        "    print(f'Recall: \\t{recall}')\n",
        "    print(f'F1-Score: \\t{f1}')\n",
        "    return(precision, recall, f1)\n",
        "\n",
        "get_ae_eval(ae_laptop_test_df.sentence,ae_laptop_test_df.label,ae_laptop_test_df.predictions)"
      ],
      "execution_count": null,
      "outputs": [
        {
          "output_type": "stream",
          "text": [
            "True\n"
          ],
          "name": "stdout"
        },
        {
          "output_type": "display_data",
          "data": {
            "text/html": [
              "<div>\n",
              "<style scoped>\n",
              "    .dataframe tbody tr th:only-of-type {\n",
              "        vertical-align: middle;\n",
              "    }\n",
              "\n",
              "    .dataframe tbody tr th {\n",
              "        vertical-align: top;\n",
              "    }\n",
              "\n",
              "    .dataframe thead th {\n",
              "        text-align: right;\n",
              "    }\n",
              "</style>\n",
              "<table border=\"1\" class=\"dataframe\">\n",
              "  <thead>\n",
              "    <tr style=\"text-align: right;\">\n",
              "      <th></th>\n",
              "      <th>sample_index</th>\n",
              "      <th>entity</th>\n",
              "    </tr>\n",
              "  </thead>\n",
              "  <tbody>\n",
              "    <tr>\n",
              "      <th>0</th>\n",
              "      <td>0</td>\n",
              "      <td>[Boot, time]</td>\n",
              "    </tr>\n",
              "    <tr>\n",
              "      <th>1</th>\n",
              "      <td>1</td>\n",
              "      <td>[tech, support]</td>\n",
              "    </tr>\n",
              "    <tr>\n",
              "      <th>2</th>\n",
              "      <td>3</td>\n",
              "      <td>[Set, up]</td>\n",
              "    </tr>\n",
              "    <tr>\n",
              "      <th>3</th>\n",
              "      <td>4</td>\n",
              "      <td>[Windows, 8]</td>\n",
              "    </tr>\n",
              "    <tr>\n",
              "      <th>4</th>\n",
              "      <td>4</td>\n",
              "      <td>[touchscreen, functions]</td>\n",
              "    </tr>\n",
              "  </tbody>\n",
              "</table>\n",
              "</div>"
            ],
            "text/plain": [
              "   sample_index                    entity\n",
              "0             0              [Boot, time]\n",
              "1             1           [tech, support]\n",
              "2             3                 [Set, up]\n",
              "3             4              [Windows, 8]\n",
              "4             4  [touchscreen, functions]"
            ]
          },
          "metadata": {
            "tags": []
          }
        },
        {
          "output_type": "stream",
          "text": [
            "Pred\n"
          ],
          "name": "stdout"
        },
        {
          "output_type": "display_data",
          "data": {
            "text/html": [
              "<div>\n",
              "<style scoped>\n",
              "    .dataframe tbody tr th:only-of-type {\n",
              "        vertical-align: middle;\n",
              "    }\n",
              "\n",
              "    .dataframe tbody tr th {\n",
              "        vertical-align: top;\n",
              "    }\n",
              "\n",
              "    .dataframe thead th {\n",
              "        text-align: right;\n",
              "    }\n",
              "</style>\n",
              "<table border=\"1\" class=\"dataframe\">\n",
              "  <thead>\n",
              "    <tr style=\"text-align: right;\">\n",
              "      <th></th>\n",
              "      <th>sample_index</th>\n",
              "      <th>entity</th>\n",
              "    </tr>\n",
              "  </thead>\n",
              "  <tbody>\n",
              "    <tr>\n",
              "      <th>0</th>\n",
              "      <td>0</td>\n",
              "      <td>[Boot, time]</td>\n",
              "    </tr>\n",
              "    <tr>\n",
              "      <th>1</th>\n",
              "      <td>0</td>\n",
              "      <td>[seconds]</td>\n",
              "    </tr>\n",
              "    <tr>\n",
              "      <th>2</th>\n",
              "      <td>0</td>\n",
              "      <td>[minute]</td>\n",
              "    </tr>\n",
              "    <tr>\n",
              "      <th>3</th>\n",
              "      <td>1</td>\n",
              "      <td>[support]</td>\n",
              "    </tr>\n",
              "    <tr>\n",
              "      <th>4</th>\n",
              "      <td>1</td>\n",
              "      <td>[problem]</td>\n",
              "    </tr>\n",
              "  </tbody>\n",
              "</table>\n",
              "</div>"
            ],
            "text/plain": [
              "   sample_index        entity\n",
              "0             0  [Boot, time]\n",
              "1             0     [seconds]\n",
              "2             0      [minute]\n",
              "3             1     [support]\n",
              "4             1     [problem]"
            ]
          },
          "metadata": {
            "tags": []
          }
        },
        {
          "output_type": "stream",
          "text": [
            "\n",
            "Correct: 422\n",
            "Partial: 192\n",
            "Missed: 75\n",
            "Spurious: 1336\n",
            "\n",
            "Precision: \t0.26564102564102565\n",
            "Recall: \t0.7518142235123367\n",
            "F1-Score: \t0.3925729442970822\n"
          ],
          "name": "stdout"
        },
        {
          "output_type": "execute_result",
          "data": {
            "text/plain": [
              "(0.26564102564102565, 0.7518142235123367, 0.3925729442970822)"
            ]
          },
          "metadata": {
            "tags": []
          },
          "execution_count": 52
        }
      ]
    },
    {
      "cell_type": "code",
      "metadata": {
        "id": "V5d6hvLJWnt4",
        "outputId": "702d27e5-29e0-4332-b4bf-89fae59906f4"
      },
      "source": [
        "get_ae_eval(ae_laptop_test_df.sentence,ae_laptop_test_df.label,ae_laptop_test_df.predictions_1)"
      ],
      "execution_count": null,
      "outputs": [
        {
          "output_type": "stream",
          "text": [
            "True\n"
          ],
          "name": "stdout"
        },
        {
          "output_type": "display_data",
          "data": {
            "text/html": [
              "<div>\n",
              "<style scoped>\n",
              "    .dataframe tbody tr th:only-of-type {\n",
              "        vertical-align: middle;\n",
              "    }\n",
              "\n",
              "    .dataframe tbody tr th {\n",
              "        vertical-align: top;\n",
              "    }\n",
              "\n",
              "    .dataframe thead th {\n",
              "        text-align: right;\n",
              "    }\n",
              "</style>\n",
              "<table border=\"1\" class=\"dataframe\">\n",
              "  <thead>\n",
              "    <tr style=\"text-align: right;\">\n",
              "      <th></th>\n",
              "      <th>sample_index</th>\n",
              "      <th>entity</th>\n",
              "    </tr>\n",
              "  </thead>\n",
              "  <tbody>\n",
              "    <tr>\n",
              "      <th>0</th>\n",
              "      <td>0</td>\n",
              "      <td>[Boot, time]</td>\n",
              "    </tr>\n",
              "    <tr>\n",
              "      <th>1</th>\n",
              "      <td>1</td>\n",
              "      <td>[tech, support]</td>\n",
              "    </tr>\n",
              "    <tr>\n",
              "      <th>2</th>\n",
              "      <td>3</td>\n",
              "      <td>[Set, up]</td>\n",
              "    </tr>\n",
              "    <tr>\n",
              "      <th>3</th>\n",
              "      <td>4</td>\n",
              "      <td>[Windows, 8]</td>\n",
              "    </tr>\n",
              "    <tr>\n",
              "      <th>4</th>\n",
              "      <td>4</td>\n",
              "      <td>[touchscreen, functions]</td>\n",
              "    </tr>\n",
              "  </tbody>\n",
              "</table>\n",
              "</div>"
            ],
            "text/plain": [
              "   sample_index                    entity\n",
              "0             0              [Boot, time]\n",
              "1             1           [tech, support]\n",
              "2             3                 [Set, up]\n",
              "3             4              [Windows, 8]\n",
              "4             4  [touchscreen, functions]"
            ]
          },
          "metadata": {
            "tags": []
          }
        },
        {
          "output_type": "stream",
          "text": [
            "Pred\n"
          ],
          "name": "stdout"
        },
        {
          "output_type": "display_data",
          "data": {
            "text/html": [
              "<div>\n",
              "<style scoped>\n",
              "    .dataframe tbody tr th:only-of-type {\n",
              "        vertical-align: middle;\n",
              "    }\n",
              "\n",
              "    .dataframe tbody tr th {\n",
              "        vertical-align: top;\n",
              "    }\n",
              "\n",
              "    .dataframe thead th {\n",
              "        text-align: right;\n",
              "    }\n",
              "</style>\n",
              "<table border=\"1\" class=\"dataframe\">\n",
              "  <thead>\n",
              "    <tr style=\"text-align: right;\">\n",
              "      <th></th>\n",
              "      <th>sample_index</th>\n",
              "      <th>entity</th>\n",
              "    </tr>\n",
              "  </thead>\n",
              "  <tbody>\n",
              "    <tr>\n",
              "      <th>0</th>\n",
              "      <td>0</td>\n",
              "      <td>[Boot, time]</td>\n",
              "    </tr>\n",
              "    <tr>\n",
              "      <th>1</th>\n",
              "      <td>0</td>\n",
              "      <td>[minute]</td>\n",
              "    </tr>\n",
              "    <tr>\n",
              "      <th>2</th>\n",
              "      <td>1</td>\n",
              "      <td>[support]</td>\n",
              "    </tr>\n",
              "    <tr>\n",
              "      <th>3</th>\n",
              "      <td>1</td>\n",
              "      <td>[problem]</td>\n",
              "    </tr>\n",
              "    <tr>\n",
              "      <th>4</th>\n",
              "      <td>1</td>\n",
              "      <td>[plan]</td>\n",
              "    </tr>\n",
              "  </tbody>\n",
              "</table>\n",
              "</div>"
            ],
            "text/plain": [
              "   sample_index        entity\n",
              "0             0  [Boot, time]\n",
              "1             0      [minute]\n",
              "2             1     [support]\n",
              "3             1     [problem]\n",
              "4             1        [plan]"
            ]
          },
          "metadata": {
            "tags": []
          }
        },
        {
          "output_type": "stream",
          "text": [
            "\n",
            "Correct: 327\n",
            "Partial: 223\n",
            "Missed: 140\n",
            "Spurious: 1094\n",
            "\n",
            "Precision: \t0.26672749391727496\n",
            "Recall: \t0.6355072463768116\n",
            "F1-Score: \t0.37574978577549273\n"
          ],
          "name": "stdout"
        },
        {
          "output_type": "execute_result",
          "data": {
            "text/plain": [
              "(0.26672749391727496, 0.6355072463768116, 0.37574978577549273)"
            ]
          },
          "metadata": {
            "tags": []
          },
          "execution_count": 53
        }
      ]
    },
    {
      "cell_type": "markdown",
      "metadata": {
        "id": "zthVMA6fWnt4"
      },
      "source": [
        "## AE evaluation - Token Accuracy"
      ]
    },
    {
      "cell_type": "code",
      "metadata": {
        "id": "rJtZqb4tWnt4",
        "outputId": "0f6cff77-d5d3-4468-829d-78a5d6cc5878"
      },
      "source": [
        "def get_accuracy(true,predictions):\n",
        "    accuracy = []\n",
        "    for true_el, predict_el in zip(true,predictions):\n",
        "        accuracy.append((np.array(predict_el) == np.array(true_el)).sum() / (len(true_el)))\n",
        "    return(accuracy)\n",
        "\n",
        "ae_laptop_test_df['accuracy'] = get_accuracy(ae_laptop_test_df.label,ae_laptop_test_df.predictions)\n",
        "ae_laptop_test_df['accuracy_1'] = get_accuracy(ae_laptop_test_df.label,ae_laptop_test_df.predictions_1)\n",
        "ae_laptop_test_df.head()\n",
        "ae_laptop_test_df[['accuracy','accuracy_1']].describe()"
      ],
      "execution_count": null,
      "outputs": [
        {
          "output_type": "execute_result",
          "data": {
            "text/html": [
              "<div>\n",
              "<style scoped>\n",
              "    .dataframe tbody tr th:only-of-type {\n",
              "        vertical-align: middle;\n",
              "    }\n",
              "\n",
              "    .dataframe tbody tr th {\n",
              "        vertical-align: top;\n",
              "    }\n",
              "\n",
              "    .dataframe thead th {\n",
              "        text-align: right;\n",
              "    }\n",
              "</style>\n",
              "<table border=\"1\" class=\"dataframe\">\n",
              "  <thead>\n",
              "    <tr style=\"text-align: right;\">\n",
              "      <th></th>\n",
              "      <th>label</th>\n",
              "      <th>sentence</th>\n",
              "      <th>predictions</th>\n",
              "      <th>predictions_1</th>\n",
              "      <th>iob_gold_tree</th>\n",
              "      <th>accuracy</th>\n",
              "      <th>accuracy_1</th>\n",
              "    </tr>\n",
              "  </thead>\n",
              "  <tbody>\n",
              "    <tr>\n",
              "      <th>0</th>\n",
              "      <td>[B, I, O, O, O, O, O, O, O, O, O, O, O, O, O]</td>\n",
              "      <td>[Boot, time, is, super, fast, ,, around, anywh...</td>\n",
              "      <td>[B, I, O, O, O, O, O, O, O, O, B, O, O, B, O]</td>\n",
              "      <td>[B, I, O, O, O, O, O, O, O, O, O, O, O, B, O]</td>\n",
              "      <td>[(Boot, NNP, B-NP), (time, NN, I-NP), (is, VBZ...</td>\n",
              "      <td>0.866667</td>\n",
              "      <td>0.933333</td>\n",
              "    </tr>\n",
              "    <tr>\n",
              "      <th>1</th>\n",
              "      <td>[B, I, O, O, O, O, O, O, O, O, O, O, O, O, O, ...</td>\n",
              "      <td>[tech, support, would, not, fix, the, problem,...</td>\n",
              "      <td>[O, B, O, O, O, O, B, O, O, O, O, B, O, O, O, ...</td>\n",
              "      <td>[O, B, O, O, O, O, B, O, O, O, O, B, O, O, O, ...</td>\n",
              "      <td>[(tech, JJ, B-NP), (support, NN, I-NP), (would...</td>\n",
              "      <td>0.764706</td>\n",
              "      <td>0.764706</td>\n",
              "    </tr>\n",
              "    <tr>\n",
              "      <th>2</th>\n",
              "      <td>[O, O, O, O, O, O, O]</td>\n",
              "      <td>[but, in, resume, this, computer, rocks, !]</td>\n",
              "      <td>[O, O, B, O, B, O, O]</td>\n",
              "      <td>[O, O, B, O, B, O, O]</td>\n",
              "      <td>[(but, CC, O), (in, IN, O), (resume, NN, O), (...</td>\n",
              "      <td>0.714286</td>\n",
              "      <td>0.714286</td>\n",
              "    </tr>\n",
              "    <tr>\n",
              "      <th>3</th>\n",
              "      <td>[B, I, O, O, O]</td>\n",
              "      <td>[Set, up, was, easy, .]</td>\n",
              "      <td>[B, O, O, O, O]</td>\n",
              "      <td>[B, O, O, O, O]</td>\n",
              "      <td>[(Set, NNP, B-NP), (up, RP, I-NP), (was, VBD, ...</td>\n",
              "      <td>0.800000</td>\n",
              "      <td>0.800000</td>\n",
              "    </tr>\n",
              "    <tr>\n",
              "      <th>4</th>\n",
              "      <td>[O, O, O, O, O, B, I, O, B, I, O]</td>\n",
              "      <td>[Did, not, enjoy, the, new, Windows, 8, and, t...</td>\n",
              "      <td>[B, O, O, O, O, B, O, O, O, B, O]</td>\n",
              "      <td>[B, O, O, O, O, B, O, O, O, O, O]</td>\n",
              "      <td>[(Did, NNP, O), (not, RB, O), (enjoy, VB, O), ...</td>\n",
              "      <td>0.636364</td>\n",
              "      <td>0.636364</td>\n",
              "    </tr>\n",
              "  </tbody>\n",
              "</table>\n",
              "</div>"
            ],
            "text/plain": [
              "                                               label  \\\n",
              "0      [B, I, O, O, O, O, O, O, O, O, O, O, O, O, O]   \n",
              "1  [B, I, O, O, O, O, O, O, O, O, O, O, O, O, O, ...   \n",
              "2                              [O, O, O, O, O, O, O]   \n",
              "3                                    [B, I, O, O, O]   \n",
              "4                  [O, O, O, O, O, B, I, O, B, I, O]   \n",
              "\n",
              "                                            sentence  \\\n",
              "0  [Boot, time, is, super, fast, ,, around, anywh...   \n",
              "1  [tech, support, would, not, fix, the, problem,...   \n",
              "2        [but, in, resume, this, computer, rocks, !]   \n",
              "3                            [Set, up, was, easy, .]   \n",
              "4  [Did, not, enjoy, the, new, Windows, 8, and, t...   \n",
              "\n",
              "                                         predictions  \\\n",
              "0      [B, I, O, O, O, O, O, O, O, O, B, O, O, B, O]   \n",
              "1  [O, B, O, O, O, O, B, O, O, O, O, B, O, O, O, ...   \n",
              "2                              [O, O, B, O, B, O, O]   \n",
              "3                                    [B, O, O, O, O]   \n",
              "4                  [B, O, O, O, O, B, O, O, O, B, O]   \n",
              "\n",
              "                                       predictions_1  \\\n",
              "0      [B, I, O, O, O, O, O, O, O, O, O, O, O, B, O]   \n",
              "1  [O, B, O, O, O, O, B, O, O, O, O, B, O, O, O, ...   \n",
              "2                              [O, O, B, O, B, O, O]   \n",
              "3                                    [B, O, O, O, O]   \n",
              "4                  [B, O, O, O, O, B, O, O, O, O, O]   \n",
              "\n",
              "                                       iob_gold_tree  accuracy  accuracy_1  \n",
              "0  [(Boot, NNP, B-NP), (time, NN, I-NP), (is, VBZ...  0.866667    0.933333  \n",
              "1  [(tech, JJ, B-NP), (support, NN, I-NP), (would...  0.764706    0.764706  \n",
              "2  [(but, CC, O), (in, IN, O), (resume, NN, O), (...  0.714286    0.714286  \n",
              "3  [(Set, NNP, B-NP), (up, RP, I-NP), (was, VBD, ...  0.800000    0.800000  \n",
              "4  [(Did, NNP, O), (not, RB, O), (enjoy, VB, O), ...  0.636364    0.636364  "
            ]
          },
          "metadata": {
            "tags": []
          },
          "execution_count": 56
        },
        {
          "output_type": "execute_result",
          "data": {
            "text/html": [
              "<div>\n",
              "<style scoped>\n",
              "    .dataframe tbody tr th:only-of-type {\n",
              "        vertical-align: middle;\n",
              "    }\n",
              "\n",
              "    .dataframe tbody tr th {\n",
              "        vertical-align: top;\n",
              "    }\n",
              "\n",
              "    .dataframe thead th {\n",
              "        text-align: right;\n",
              "    }\n",
              "</style>\n",
              "<table border=\"1\" class=\"dataframe\">\n",
              "  <thead>\n",
              "    <tr style=\"text-align: right;\">\n",
              "      <th></th>\n",
              "      <th>accuracy</th>\n",
              "      <th>accuracy_1</th>\n",
              "    </tr>\n",
              "  </thead>\n",
              "  <tbody>\n",
              "    <tr>\n",
              "      <th>count</th>\n",
              "      <td>800.000000</td>\n",
              "      <td>800.000000</td>\n",
              "    </tr>\n",
              "    <tr>\n",
              "      <th>mean</th>\n",
              "      <td>0.827023</td>\n",
              "      <td>0.831191</td>\n",
              "    </tr>\n",
              "    <tr>\n",
              "      <th>std</th>\n",
              "      <td>0.117612</td>\n",
              "      <td>0.127836</td>\n",
              "    </tr>\n",
              "    <tr>\n",
              "      <th>min</th>\n",
              "      <td>0.200000</td>\n",
              "      <td>0.200000</td>\n",
              "    </tr>\n",
              "    <tr>\n",
              "      <th>25%</th>\n",
              "      <td>0.756466</td>\n",
              "      <td>0.760000</td>\n",
              "    </tr>\n",
              "    <tr>\n",
              "      <th>50%</th>\n",
              "      <td>0.833333</td>\n",
              "      <td>0.846154</td>\n",
              "    </tr>\n",
              "    <tr>\n",
              "      <th>75%</th>\n",
              "      <td>0.909091</td>\n",
              "      <td>0.916667</td>\n",
              "    </tr>\n",
              "    <tr>\n",
              "      <th>max</th>\n",
              "      <td>1.000000</td>\n",
              "      <td>1.000000</td>\n",
              "    </tr>\n",
              "  </tbody>\n",
              "</table>\n",
              "</div>"
            ],
            "text/plain": [
              "         accuracy  accuracy_1\n",
              "count  800.000000  800.000000\n",
              "mean     0.827023    0.831191\n",
              "std      0.117612    0.127836\n",
              "min      0.200000    0.200000\n",
              "25%      0.756466    0.760000\n",
              "50%      0.833333    0.846154\n",
              "75%      0.909091    0.916667\n",
              "max      1.000000    1.000000"
            ]
          },
          "metadata": {
            "tags": []
          },
          "execution_count": 56
        }
      ]
    },
    {
      "cell_type": "markdown",
      "metadata": {
        "id": "YMRpIoy_Wnt5"
      },
      "source": [
        "## Export samples that are well / poorly extracted"
      ]
    },
    {
      "cell_type": "code",
      "metadata": {
        "id": "StYPgLaaWnt5",
        "outputId": "76679c31-fe48-4198-c9cf-a25a9afe2bdb"
      },
      "source": [
        "def get_bad_examples(n = 1):\n",
        "    ind = np.argpartition(ae_laptop_test_df.accuracy + ae_laptop_test_df.accuracy_1,n)[:n]\n",
        "    print(ind)\n",
        "    sort_ind = ind[np.argsort((ae_laptop_test_df.accuracy + ae_laptop_test_df.accuracy_1).iloc[ind])]\n",
        "    bad_example = ae_laptop_test_df.iloc[sort_ind]\n",
        "    \n",
        "    display(bad_example)\n",
        "    print(*[' '.join(sent) for sent in bad_example.sentence],sep='\\n')\n",
        "    \n",
        "get_bad_examples(3)\n",
        "\n",
        "def get_good_examples(n = 1):\n",
        "    ind = np.argpartition(ae_laptop_test_df.accuracy + ae_laptop_test_df.accuracy_1,-n)[-n:]\n",
        "    print(ind)\n",
        "    sort_ind = ind[np.argsort((ae_laptop_test_df.accuracy + ae_laptop_test_df.accuracy_1).iloc[ind])]\n",
        "    good_example = ae_laptop_test_df.iloc[sort_ind]\n",
        "    \n",
        "    display(good_example)\n",
        "    print(*[' '.join(sent) for sent in good_example.sentence],sep='\\n')\n",
        "# good_example = ae_laptop_test_df.iloc[np.argmax(ae_laptop_test_df.accuracy + ae_laptop_test_df.accuracy_1)]\n",
        "get_good_examples(3)"
      ],
      "execution_count": null,
      "outputs": [
        {
          "output_type": "stream",
          "text": [
            "0    165\n",
            "1    532\n",
            "2    632\n",
            "dtype: int64\n"
          ],
          "name": "stdout"
        },
        {
          "output_type": "display_data",
          "data": {
            "text/html": [
              "<div>\n",
              "<style scoped>\n",
              "    .dataframe tbody tr th:only-of-type {\n",
              "        vertical-align: middle;\n",
              "    }\n",
              "\n",
              "    .dataframe tbody tr th {\n",
              "        vertical-align: top;\n",
              "    }\n",
              "\n",
              "    .dataframe thead th {\n",
              "        text-align: right;\n",
              "    }\n",
              "</style>\n",
              "<table border=\"1\" class=\"dataframe\">\n",
              "  <thead>\n",
              "    <tr style=\"text-align: right;\">\n",
              "      <th></th>\n",
              "      <th>label</th>\n",
              "      <th>sentence</th>\n",
              "      <th>predictions</th>\n",
              "      <th>predictions_1</th>\n",
              "      <th>iob_gold_tree</th>\n",
              "      <th>accuracy</th>\n",
              "      <th>accuracy_1</th>\n",
              "    </tr>\n",
              "  </thead>\n",
              "  <tbody>\n",
              "    <tr>\n",
              "      <th>165</th>\n",
              "      <td>[O, O, O, O, O]</td>\n",
              "      <td>[HUGE, Apple, MAC, Fan, !]</td>\n",
              "      <td>[B, I, I, I, O]</td>\n",
              "      <td>[B, I, I, I, O]</td>\n",
              "      <td>[(HUGE, NNP, O), (Apple, NNP, O), (MAC, NNP, O...</td>\n",
              "      <td>0.200000</td>\n",
              "      <td>0.200000</td>\n",
              "    </tr>\n",
              "    <tr>\n",
              "      <th>532</th>\n",
              "      <td>[O, O, O, O, O, O, O, O, O, O, O, O, O]</td>\n",
              "      <td>[i, FINALLY, DID, IT, AND, THIS, MACHINE, IS, ...</td>\n",
              "      <td>[B, I, I, I, I, I, I, O, O, B, I, I, O]</td>\n",
              "      <td>[B, O, B, I, I, I, I, O, O, B, I, I, O]</td>\n",
              "      <td>[(i, NN, O), (FINALLY, NNPS, O), (DID, NNP, O)...</td>\n",
              "      <td>0.230769</td>\n",
              "      <td>0.307692</td>\n",
              "    </tr>\n",
              "    <tr>\n",
              "      <th>632</th>\n",
              "      <td>[O, B, O]</td>\n",
              "      <td>[Nice, packing, .]</td>\n",
              "      <td>[B, I, O]</td>\n",
              "      <td>[B, I, O]</td>\n",
              "      <td>[(Nice, NNP, O), (packing, NN, B-NP), (., ., O)]</td>\n",
              "      <td>0.333333</td>\n",
              "      <td>0.333333</td>\n",
              "    </tr>\n",
              "  </tbody>\n",
              "</table>\n",
              "</div>"
            ],
            "text/plain": [
              "                                       label  \\\n",
              "165                          [O, O, O, O, O]   \n",
              "532  [O, O, O, O, O, O, O, O, O, O, O, O, O]   \n",
              "632                                [O, B, O]   \n",
              "\n",
              "                                              sentence  \\\n",
              "165                         [HUGE, Apple, MAC, Fan, !]   \n",
              "532  [i, FINALLY, DID, IT, AND, THIS, MACHINE, IS, ...   \n",
              "632                                 [Nice, packing, .]   \n",
              "\n",
              "                                 predictions  \\\n",
              "165                          [B, I, I, I, O]   \n",
              "532  [B, I, I, I, I, I, I, O, O, B, I, I, O]   \n",
              "632                                [B, I, O]   \n",
              "\n",
              "                               predictions_1  \\\n",
              "165                          [B, I, I, I, O]   \n",
              "532  [B, O, B, I, I, I, I, O, O, B, I, I, O]   \n",
              "632                                [B, I, O]   \n",
              "\n",
              "                                         iob_gold_tree  accuracy  accuracy_1  \n",
              "165  [(HUGE, NNP, O), (Apple, NNP, O), (MAC, NNP, O...  0.200000    0.200000  \n",
              "532  [(i, NN, O), (FINALLY, NNPS, O), (DID, NNP, O)...  0.230769    0.307692  \n",
              "632   [(Nice, NNP, O), (packing, NN, B-NP), (., ., O)]  0.333333    0.333333  "
            ]
          },
          "metadata": {
            "tags": []
          }
        },
        {
          "output_type": "stream",
          "text": [
            "HUGE Apple MAC Fan !\n",
            "i FINALLY DID IT AND THIS MACHINE IS THE WAY TO GO !\n",
            "Nice packing .\n",
            "797    346\n",
            "798    354\n",
            "799    321\n",
            "dtype: int64\n"
          ],
          "name": "stdout"
        },
        {
          "output_type": "display_data",
          "data": {
            "text/html": [
              "<div>\n",
              "<style scoped>\n",
              "    .dataframe tbody tr th:only-of-type {\n",
              "        vertical-align: middle;\n",
              "    }\n",
              "\n",
              "    .dataframe tbody tr th {\n",
              "        vertical-align: top;\n",
              "    }\n",
              "\n",
              "    .dataframe thead th {\n",
              "        text-align: right;\n",
              "    }\n",
              "</style>\n",
              "<table border=\"1\" class=\"dataframe\">\n",
              "  <thead>\n",
              "    <tr style=\"text-align: right;\">\n",
              "      <th></th>\n",
              "      <th>label</th>\n",
              "      <th>sentence</th>\n",
              "      <th>predictions</th>\n",
              "      <th>predictions_1</th>\n",
              "      <th>iob_gold_tree</th>\n",
              "      <th>accuracy</th>\n",
              "      <th>accuracy_1</th>\n",
              "    </tr>\n",
              "  </thead>\n",
              "  <tbody>\n",
              "    <tr>\n",
              "      <th>346</th>\n",
              "      <td>[O, O, B, O, B, O, B, O, B, I, O]</td>\n",
              "      <td>[!, Excelent, performance, ,, usability, ,, pr...</td>\n",
              "      <td>[O, O, B, O, B, O, B, O, B, I, O]</td>\n",
              "      <td>[O, O, B, O, B, O, B, O, B, I, O]</td>\n",
              "      <td>[(!, ., O), (Excelent, JJ, O), (performance, N...</td>\n",
              "      <td>1.0</td>\n",
              "      <td>1.0</td>\n",
              "    </tr>\n",
              "    <tr>\n",
              "      <th>354</th>\n",
              "      <td>[O, O, O, B, I, O]</td>\n",
              "      <td>[I, love, the, form, factor, .]</td>\n",
              "      <td>[O, O, O, B, I, O]</td>\n",
              "      <td>[O, O, O, B, I, O]</td>\n",
              "      <td>[(I, PRP, O), (love, VBP, O), (the, DT, O), (f...</td>\n",
              "      <td>1.0</td>\n",
              "      <td>1.0</td>\n",
              "    </tr>\n",
              "    <tr>\n",
              "      <th>321</th>\n",
              "      <td>[O, B, O, O, O, O, O, O, O, O, O, O, O]</td>\n",
              "      <td>[The, memory, was, gone, and, it, was, not, ab...</td>\n",
              "      <td>[O, B, O, O, O, O, O, O, O, O, O, O, O]</td>\n",
              "      <td>[O, B, O, O, O, O, O, O, O, O, O, O, O]</td>\n",
              "      <td>[(The, DT, O), (memory, NN, B-NP), (was, VBD, ...</td>\n",
              "      <td>1.0</td>\n",
              "      <td>1.0</td>\n",
              "    </tr>\n",
              "  </tbody>\n",
              "</table>\n",
              "</div>"
            ],
            "text/plain": [
              "                                       label  \\\n",
              "346        [O, O, B, O, B, O, B, O, B, I, O]   \n",
              "354                       [O, O, O, B, I, O]   \n",
              "321  [O, B, O, O, O, O, O, O, O, O, O, O, O]   \n",
              "\n",
              "                                              sentence  \\\n",
              "346  [!, Excelent, performance, ,, usability, ,, pr...   \n",
              "354                    [I, love, the, form, factor, .]   \n",
              "321  [The, memory, was, gone, and, it, was, not, ab...   \n",
              "\n",
              "                                 predictions  \\\n",
              "346        [O, O, B, O, B, O, B, O, B, I, O]   \n",
              "354                       [O, O, O, B, I, O]   \n",
              "321  [O, B, O, O, O, O, O, O, O, O, O, O, O]   \n",
              "\n",
              "                               predictions_1  \\\n",
              "346        [O, O, B, O, B, O, B, O, B, I, O]   \n",
              "354                       [O, O, O, B, I, O]   \n",
              "321  [O, B, O, O, O, O, O, O, O, O, O, O, O]   \n",
              "\n",
              "                                         iob_gold_tree  accuracy  accuracy_1  \n",
              "346  [(!, ., O), (Excelent, JJ, O), (performance, N...       1.0         1.0  \n",
              "354  [(I, PRP, O), (love, VBP, O), (the, DT, O), (f...       1.0         1.0  \n",
              "321  [(The, DT, O), (memory, NN, B-NP), (was, VBD, ...       1.0         1.0  "
            ]
          },
          "metadata": {
            "tags": []
          }
        },
        {
          "output_type": "stream",
          "text": [
            "! Excelent performance , usability , presentation and time response .\n",
            "I love the form factor .\n",
            "The memory was gone and it was not able to be used .\n"
          ],
          "name": "stdout"
        }
      ]
    },
    {
      "cell_type": "markdown",
      "metadata": {
        "id": "dAZCXRYCWnt5"
      },
      "source": [
        "## ASC baseline - VADER"
      ]
    },
    {
      "cell_type": "code",
      "metadata": {
        "colab": {
          "base_uri": "https://localhost:8080/"
        },
        "id": "AvrLoEZSWnt6",
        "outputId": "502aa388-8eaa-47b5-e2b4-d844d27d412e"
      },
      "source": [
        "def vader_asc(sentence_lst):\n",
        "    \"\"\"\n",
        "    For every sentence in the list, tag it as a positive/negative sentiment based on the sum of the words.\n",
        "    \"\"\"\n",
        "    analyzer = SentimentIntensityAnalyzer()\n",
        "    pos_neg_tag_lst = []\n",
        "    for ind,sentence in enumerate(sentence_lst):\n",
        "        vs = analyzer.polarity_scores(sentence)\n",
        "        pos_neg_tag = 'negative' if vs['compound'] <= -0.05 else 'positive' if vs['compound'] >= 0.05 else 'neutral' \n",
        "        # print first 10 examples\n",
        "        if ind <10: print(\"{:-<65} {} ({})\".format(sentence, str(vs['compound']),pos_neg_tag))\n",
        "        pos_neg_tag_lst.append(pos_neg_tag)\n",
        "    return(pos_neg_tag_lst)\n",
        "\n",
        "asc_laptop_test_df['predictions'] = vader_asc(asc_laptop_test_df.sentence)"
      ],
      "execution_count": 148,
      "outputs": [
        {
          "output_type": "stream",
          "text": [
            "the retina display display make pictures i took years ago jaw dropping. 0.0 (neutral)\n",
            "Needs a CD/DVD drive and a bigger power switch.------------------ 0.0 (neutral)\n",
            "Needs a CD/DVD drive and a bigger power switch.------------------ 0.0 (neutral)\n",
            "The battery is not as shown in the product photos.--------------- 0.0 (neutral)\n",
            "It feels cheap, the keyboard is not very sensitive.-------------- 0.0 (neutral)\n",
            "Shipping was quick and product described was the product sent and so much more... 0.0 (neutral)\n",
            "I've had it for about 2 months now and found no issues with software or updates. -0.296 (negative)\n",
            "The only thing I miss is that my old Alienware laptop had backlit keys. -0.1531 (negative)\n",
            "Unfortunately, it runs XP and Microsoft is dropping support next April. 0.5622 (positive)\n",
            "Unfortunately, it runs XP and Microsoft is dropping support next April. 0.5622 (positive)\n"
          ],
          "name": "stdout"
        }
      ]
    },
    {
      "cell_type": "markdown",
      "metadata": {
        "id": "Z8mN94KbWnt6"
      },
      "source": [
        "## ASC - BERT"
      ]
    },
    {
      "cell_type": "code",
      "metadata": {
        "colab": {
          "base_uri": "https://localhost:8080/",
          "height": 164,
          "referenced_widgets": [
            "a35855c7b19c4bbda0e75eac4ee79135",
            "141028fbb0bd46f1b872362e6ba31cff",
            "ec5320a3c9284ef197d8beda2a4d2282",
            "e6fd3f1f25c647a3a971448d8d1ffe38",
            "19755be40d454987a08cd7c22cdf4617",
            "f732c2914976420986d1550b894273a6",
            "1c3367d1e13d488db50952799dbd16f5",
            "f27214776f3e4c0db147ad5b36dd4d14",
            "b11e7e2fb006449ea8a4777e5d65f3de",
            "cee9adc149944d1b9a7c0c5c77fa63ed",
            "924ad2867cfb4141b9c623d8b2a1730c",
            "d34346618fe648fc81729e5ecd6613c4",
            "5d47e578180e467fa1b5514cb42d7da1",
            "53b27ac21cd14611bf07704ae13783d9",
            "55e6ef319c1242d79ef972e415e5932f",
            "6b142987d92e4393a580da4e0972195a",
            "62190c66b70d42da92492402e1b8d69f",
            "8eb1e2a6bafc4085ba34b06c3e446b0f",
            "1929f2e62c084b218a5e5ae845541717",
            "0ae8fb4122de46dc8d7c96050dff0114",
            "b665757b4b1d478683168fa77e28cc1f",
            "a0b5c0933fbc453b80d613da69797304",
            "e5e9766a8bff49cb9e993e65f3c3b7e8",
            "482a7c439f224dfcaea2cd1fb328918a"
          ]
        },
        "id": "ZkyDDBpuWnt6",
        "outputId": "cd2a088c-2e41-4723-9df2-b16b9f779a1e"
      },
      "source": [
        "tokenizer = BertTokenizer.from_pretrained('bert-base-uncased')"
      ],
      "execution_count": 21,
      "outputs": [
        {
          "output_type": "display_data",
          "data": {
            "application/vnd.jupyter.widget-view+json": {
              "model_id": "a35855c7b19c4bbda0e75eac4ee79135",
              "version_minor": 0,
              "version_major": 2
            },
            "text/plain": [
              "HBox(children=(FloatProgress(value=0.0, description='Downloading', max=231508.0, style=ProgressStyle(descripti…"
            ]
          },
          "metadata": {
            "tags": []
          }
        },
        {
          "output_type": "stream",
          "text": [
            "\n"
          ],
          "name": "stdout"
        },
        {
          "output_type": "display_data",
          "data": {
            "application/vnd.jupyter.widget-view+json": {
              "model_id": "b11e7e2fb006449ea8a4777e5d65f3de",
              "version_minor": 0,
              "version_major": 2
            },
            "text/plain": [
              "HBox(children=(FloatProgress(value=0.0, description='Downloading', max=28.0, style=ProgressStyle(description_w…"
            ]
          },
          "metadata": {
            "tags": []
          }
        },
        {
          "output_type": "stream",
          "text": [
            "\n"
          ],
          "name": "stdout"
        },
        {
          "output_type": "display_data",
          "data": {
            "application/vnd.jupyter.widget-view+json": {
              "model_id": "62190c66b70d42da92492402e1b8d69f",
              "version_minor": 0,
              "version_major": 2
            },
            "text/plain": [
              "HBox(children=(FloatProgress(value=0.0, description='Downloading', max=466062.0, style=ProgressStyle(descripti…"
            ]
          },
          "metadata": {
            "tags": []
          }
        },
        {
          "output_type": "stream",
          "text": [
            "\n"
          ],
          "name": "stdout"
        }
      ]
    },
    {
      "cell_type": "code",
      "metadata": {
        "colab": {
          "base_uri": "https://localhost:8080/"
        },
        "id": "6j6iV4kcWnt6",
        "outputId": "0845af41-22ff-4787-8348-3e28b3d13c24"
      },
      "source": [
        "batch_sentences = [val['sentence'] for key, val in asc_laptop_train.items()]*5\n",
        "batch_sentences.extend([val['sentence'] for key, val in asc_laptop_dev.items()])\n",
        "batch_sentences.extend([val['sentence'] for key, val in asc_laptop_test.items()])\n",
        "train_size = len(asc_laptop_train)*5\n",
        "dev_size = len(asc_laptop_dev)\n",
        "test_size = len(asc_laptop_test)\n",
        "print(train_size)\n",
        "print(dev_size)\n",
        "print(test_size)\n",
        "print(train_size+dev_size+test_size)"
      ],
      "execution_count": 40,
      "outputs": [
        {
          "output_type": "stream",
          "text": [
            "10815\n",
            "150\n",
            "638\n",
            "11603\n"
          ],
          "name": "stdout"
        }
      ]
    },
    {
      "cell_type": "code",
      "metadata": {
        "colab": {
          "base_uri": "https://localhost:8080/"
        },
        "id": "6aWtQbFXabzz",
        "outputId": "204d9c5f-4055-4802-dfb2-8cf40cfc89b7"
      },
      "source": [
        "batch_terms = [val['term'] for key, val in asc_laptop_train.items()]*5\n",
        "batch_terms.extend([val['term'] for key, val in asc_laptop_dev.items()])\n",
        "batch_terms.extend([val['term'] for key, val in asc_laptop_test.items()])"
      ],
      "execution_count": 44,
      "outputs": [
        {
          "output_type": "execute_result",
          "data": {
            "text/plain": [
              "['use', 'noise', 'force', 'expense', 'word processor']"
            ]
          },
          "metadata": {
            "tags": []
          },
          "execution_count": 44
        }
      ]
    },
    {
      "cell_type": "code",
      "metadata": {
        "id": "vlBImJOxWnt7"
      },
      "source": [
        "batch_label = [val['polarity'] for key, val in asc_laptop_train.items()]*5\n",
        "batch_label.extend([val['polarity'] for key, val in asc_laptop_dev.items()])\n",
        "batch_label.extend([val['polarity'] for key, val in asc_laptop_test.items()])"
      ],
      "execution_count": 23,
      "outputs": []
    },
    {
      "cell_type": "code",
      "metadata": {
        "id": "CmPqP9c9Wnt7"
      },
      "source": [
        "max_length=50\n",
        "bert_inputs = tokenizer(batch_terms, batch_sentences, padding=True, truncation=True, max_length=max_length, return_tensors=\"tf\")"
      ],
      "execution_count": 60,
      "outputs": []
    },
    {
      "cell_type": "code",
      "metadata": {
        "colab": {
          "base_uri": "https://localhost:8080/"
        },
        "id": "a9AX8exyWnt7",
        "outputId": "e3f4f4f9-1e9f-4282-9503-d597f49453d0"
      },
      "source": [
        "label_encoder = LabelEncoder().fit(batch_label)\n",
        "ascLabels = label_encoder.transform(batch_label)\n",
        "label_encoder.classes_\n",
        "batch_label[:5]\n",
        "ascLabels[:5]"
      ],
      "execution_count": 47,
      "outputs": [
        {
          "output_type": "execute_result",
          "data": {
            "text/plain": [
              "array(['negative', 'neutral', 'positive'], dtype='<U8')"
            ]
          },
          "metadata": {
            "tags": []
          },
          "execution_count": 47
        },
        {
          "output_type": "execute_result",
          "data": {
            "text/plain": [
              "['positive', 'positive', 'positive', 'negative', 'negative']"
            ]
          },
          "metadata": {
            "tags": []
          },
          "execution_count": 47
        },
        {
          "output_type": "execute_result",
          "data": {
            "text/plain": [
              "array([2, 2, 2, 0, 0])"
            ]
          },
          "metadata": {
            "tags": []
          },
          "execution_count": 47
        }
      ]
    },
    {
      "cell_type": "code",
      "metadata": {
        "colab": {
          "base_uri": "https://localhost:8080/"
        },
        "id": "SHwpY8UVWnt7",
        "outputId": "32733eb8-a682-473e-9ba0-208d8e18f847"
      },
      "source": [
        "bert_inputs"
      ],
      "execution_count": 48,
      "outputs": [
        {
          "output_type": "execute_result",
          "data": {
            "text/plain": [
              "{'input_ids': <tf.Tensor: shape=(11603, 50), dtype=int32, numpy=\n",
              "array([[  101,  2224,   102, ...,     0,     0,     0],\n",
              "       [  101,  5005,   102, ...,     0,     0,     0],\n",
              "       [  101,  2486,   102, ...,     0,     0,     0],\n",
              "       ...,\n",
              "       [  101,  3645,  1022, ...,     0,     0,     0],\n",
              "       [  101, 14743,   102, ...,     0,     0,     0],\n",
              "       [  101, 10453,   102, ...,     0,     0,     0]], dtype=int32)>, 'token_type_ids': <tf.Tensor: shape=(11603, 50), dtype=int32, numpy=\n",
              "array([[0, 0, 0, ..., 0, 0, 0],\n",
              "       [0, 0, 0, ..., 0, 0, 0],\n",
              "       [0, 0, 0, ..., 0, 0, 0],\n",
              "       ...,\n",
              "       [0, 0, 0, ..., 0, 0, 0],\n",
              "       [0, 0, 0, ..., 0, 0, 0],\n",
              "       [0, 0, 0, ..., 0, 0, 0]], dtype=int32)>, 'attention_mask': <tf.Tensor: shape=(11603, 50), dtype=int32, numpy=\n",
              "array([[1, 1, 1, ..., 0, 0, 0],\n",
              "       [1, 1, 1, ..., 0, 0, 0],\n",
              "       [1, 1, 1, ..., 0, 0, 0],\n",
              "       ...,\n",
              "       [1, 1, 1, ..., 0, 0, 0],\n",
              "       [1, 1, 1, ..., 0, 0, 0],\n",
              "       [1, 1, 1, ..., 0, 0, 0]], dtype=int32)>}"
            ]
          },
          "metadata": {
            "tags": []
          },
          "execution_count": 48
        }
      ]
    },
    {
      "cell_type": "code",
      "metadata": {
        "id": "hOV50s0MWnt7"
      },
      "source": [
        "trainSentence_ids = bert_inputs['input_ids'][:train_size]\n",
        "trainMasks = bert_inputs['attention_mask'][:train_size]\n",
        "trainSequence_ids = bert_inputs['token_type_ids'][:train_size]\n",
        "\n",
        "devSentence_ids = bert_inputs['input_ids'][train_size:train_size+dev_size]\n",
        "devMasks = bert_inputs['attention_mask'][train_size:train_size+dev_size]\n",
        "devSequence_ids = bert_inputs['token_type_ids'][train_size:train_size+dev_size]\n",
        "\n",
        "testSentence_ids = bert_inputs['input_ids'][train_size+dev_size:]\n",
        "testMasks = bert_inputs['attention_mask'][train_size+dev_size:]\n",
        "testSequence_ids = bert_inputs['token_type_ids'][train_size+dev_size:]\n",
        "\n",
        "ascLabels_train = ascLabels[:train_size]\n",
        "ascLabels_dev = ascLabels[train_size:train_size+dev_size]\n",
        "ascLabels_test = ascLabels[train_size+dev_size:]\n",
        "\n",
        "X_train = np.array([trainSentence_ids,trainMasks,trainSequence_ids])\n",
        "X_dev = np.array([devSentence_ids,devMasks,devSequence_ids])\n",
        "X_test = np.array([testSentence_ids,testMasks,testSequence_ids])\n",
        "\n",
        "ascLabels_train = np.array(ascLabels_train)\n",
        "ascLabels_dev = np.array(ascLabels_dev)\n",
        "ascLabels_test = np.array(ascLabels_test)"
      ],
      "execution_count": 49,
      "outputs": []
    },
    {
      "cell_type": "code",
      "metadata": {
        "id": "XXYhK2wlWnt8"
      },
      "source": [
        "# Use a parameter pair k_start, k_end to look at slices. This helps with quick tests.\n",
        "\n",
        "k_start = 0\n",
        "k_end = -1\n",
        "\n",
        "if k_end == -1:\n",
        "    k_end_train = X_train[0].shape[0]\n",
        "    k_end_dev = X_dev[0].shape[0]\n",
        "    k_end_test = X_test[0].shape[0]\n",
        "else:\n",
        "    k_end_train = k_end_test = k_end_dev = k_end\n",
        "    \n",
        "\n",
        "\n",
        "bert_inputs_train_k = [X_train[0][k_start:k_end_train], X_train[1][k_start:k_end_train], \n",
        "                       X_train[2][k_start:k_end_train]]\n",
        "bert_inputs_dev_k = [X_dev[0][k_start:k_end_dev], X_dev[1][k_start:k_end_dev], \n",
        "                      X_dev[2][k_start:k_end_dev]]\n",
        "bert_inputs_test_k = [X_test[0][k_start:k_end_test], X_test[1][k_start:k_end_test], \n",
        "                      X_test[2][k_start:k_end_test]]\n",
        "\n",
        "\n",
        "labels_train_k = ascLabels_train[k_start:k_end_train]\n",
        "labels_dev_k = ascLabels_dev[k_start:k_end_dev]\n",
        "labels_test_k = ascLabels_test[k_start:k_end_test]"
      ],
      "execution_count": 127,
      "outputs": []
    },
    {
      "cell_type": "code",
      "metadata": {
        "id": "zRaDGyyxWnt8"
      },
      "source": [
        "train_all = [bert_inputs_train_k, labels_train_k]\n",
        "dev_all = [bert_inputs_dev_k, labels_dev_k]\n",
        "test_all = [bert_inputs_test_k, labels_test_k]"
      ],
      "execution_count": 128,
      "outputs": []
    },
    {
      "cell_type": "code",
      "metadata": {
        "id": "FfX-A2qAoULl"
      },
      "source": [
        "def custom_loss(y_true, y_pred):\n",
        "    \"\"\"\n",
        "    calculate loss function explicitly, filtering out 'extra inserted labels'\n",
        "    \n",
        "    y_true: Shape: (batch x (max_length + 1) )\n",
        "    y_pred: predictions. Shape: (batch x x (max_length + 1) x num_distinct_ner_tokens ) \n",
        "    \n",
        "    returns:  cost\n",
        "    \"\"\"\n",
        "\n",
        "    #get labels and predictions\n",
        "    \n",
        "    y_label = tf.reshape(Flatten()(tf.cast(y_true, tf.int32)),[-1])\n",
        "    \n",
        "    mask = (y_label == y_label)   # This mask is used to remove all tokens that do not correspond to the original base text.\n",
        "\n",
        "    y_label_masked = tf.boolean_mask(y_label, mask)  # mask the labels\n",
        "    \n",
        "    y_flat_pred = tf.reshape(Flatten()(tf.cast(y_pred, tf.float32)),[-1, 3])\n",
        "    \n",
        "    y_flat_pred_masked = tf.boolean_mask(y_flat_pred, mask) # mask the predictions\n",
        "    \n",
        "    return tf.reduce_mean(sparse_categorical_crossentropy(y_label_masked, y_flat_pred_masked,from_logits=False ))\n"
      ],
      "execution_count": 129,
      "outputs": []
    },
    {
      "cell_type": "code",
      "metadata": {
        "id": "OEnTY7l8etsj"
      },
      "source": [
        "def asc_model(max_input_length, train_layers, optimizer):\n",
        "    global bert_sequence\n",
        "    \"\"\"\n",
        "    Implementation of ASC model\n",
        "    \n",
        "    variables:\n",
        "        max_input_length: number of tokens (max_length + 1)\n",
        "        train_layers: number of layers to be retrained\n",
        "        optimizer: optimizer to be used\n",
        "    \n",
        "    returns: model\n",
        "    \"\"\"\n",
        "    \n",
        "    in_id = tf.keras.layers.Input(shape=(max_length,), dtype='int32', name=\"input_ids\")\n",
        "    in_mask = tf.keras.layers.Input(shape=(max_length,), dtype='int32', name=\"input_masks\")\n",
        "    in_segment = tf.keras.layers.Input(shape=(max_length,), dtype='int32', name=\"segment_ids\")\n",
        "    \n",
        "    \n",
        "    bert_inputs = [in_id, in_mask, in_segment]\n",
        "    \n",
        "    \n",
        "    \n",
        "    # Note: Bert layer from Hugging Face returns two values: sequence ouput, and pooled output. Here, we only want\n",
        "    # the former. (See https://huggingface.co/transformers/model_doc/bert.html#tfbertmodel) \n",
        "    \n",
        "    bert_layer = TFBertModel.from_pretrained('bert-base-uncased')\n",
        "    \n",
        "    # Freeze layers, i.e. only train number of layers specified, starting from the top\n",
        "    \n",
        "    if not train_layers == -1:\n",
        "        \n",
        "        retrain_layers = []\n",
        "    \n",
        "        for retrain_layer_number in range(train_layers):\n",
        "\n",
        "            layer_code = '_' + str(11 - retrain_layer_number)\n",
        "            retrain_layers.append(layer_code)\n",
        "\n",
        "        for w in bert_layer.weights:\n",
        "            if not any([x in w.name for x in retrain_layers]):\n",
        "                w._trainable = False\n",
        "\n",
        "        # End of freezing section\n",
        "    \n",
        "    bert_sequence = bert_layer(bert_inputs)[1] # take the pooled output here\n",
        "    \n",
        "    print('Let us check the shape of the BERT layer output:', bert_sequence)\n",
        "    \n",
        "    dense = tf.keras.layers.Dense(512, activation='relu', name='dense')(bert_sequence)\n",
        "    \n",
        "    dense = tf.keras.layers.Dropout(rate=0.1)(dense)\n",
        "\n",
        "    pred = tf.keras.layers.Dense(3, activation='softmax', name='asc')(dense)\n",
        "     \n",
        "    print('pred: ', pred)\n",
        "    \n",
        "    loss = custom_loss\n",
        "\n",
        "    model = tf.keras.models.Model(inputs=bert_inputs, outputs=pred)\n",
        "\n",
        "    model.compile(loss=loss, optimizer=optimizer, metrics=['accuracy'])\n",
        "    \n",
        "    \n",
        "    model.summary()\n",
        "    \n",
        "    return model"
      ],
      "execution_count": 132,
      "outputs": []
    },
    {
      "cell_type": "code",
      "metadata": {
        "colab": {
          "base_uri": "https://localhost:8080/"
        },
        "id": "bkThK23UWnt8",
        "outputId": "74ae050d-dcd4-4b7e-bd24-1b26b318dedc"
      },
      "source": [
        "tf.keras.backend.clear_session()\n",
        "tf.compat.v1.logging.set_verbosity(tf.compat.v1.logging.ERROR)\n",
        "model = asc_model(max_length+1,train_layers=-1, optimizer=optimizer)\n",
        "optimizer = tf.keras.optimizers.Adam(learning_rate=3e-5)\n",
        "model.fit(bert_inputs_train_k,labels_train_k ,validation_data=(bert_inputs_dev_k, labels_dev_k), epochs=5, batch_size=16)"
      ],
      "execution_count": 133,
      "outputs": [
        {
          "output_type": "stream",
          "text": [
            "Some layers from the model checkpoint at bert-base-uncased were not used when initializing TFBertModel: ['mlm___cls', 'nsp___cls']\n",
            "- This IS expected if you are initializing TFBertModel from the checkpoint of a model trained on another task or with another architecture (e.g. initializing a BertForSequenceClassification model from a BertForPreTraining model).\n",
            "- This IS NOT expected if you are initializing TFBertModel from the checkpoint of a model that you expect to be exactly identical (initializing a BertForSequenceClassification model from a BertForSequenceClassification model).\n",
            "All the layers of TFBertModel were initialized from the model checkpoint at bert-base-uncased.\n",
            "If your task is similar to the task the model of the checkpoint was trained on, you can already use TFBertModel for predictions without further training.\n"
          ],
          "name": "stderr"
        },
        {
          "output_type": "stream",
          "text": [
            "Let us check the shape of the BERT layer output: KerasTensor(type_spec=TensorSpec(shape=(None, 768), dtype=tf.float32, name=None), name='tf_bert_model/bert/pooler/dense/Tanh:0', description=\"created by layer 'tf_bert_model'\")\n",
            "pred:  KerasTensor(type_spec=TensorSpec(shape=(None, 3), dtype=tf.float32, name=None), name='asc/Softmax:0', description=\"created by layer 'asc'\")\n",
            "Model: \"model\"\n",
            "__________________________________________________________________________________________________\n",
            "Layer (type)                    Output Shape         Param #     Connected to                     \n",
            "==================================================================================================\n",
            "input_ids (InputLayer)          [(None, 50)]         0                                            \n",
            "__________________________________________________________________________________________________\n",
            "input_masks (InputLayer)        [(None, 50)]         0                                            \n",
            "__________________________________________________________________________________________________\n",
            "segment_ids (InputLayer)        [(None, 50)]         0                                            \n",
            "__________________________________________________________________________________________________\n",
            "tf_bert_model (TFBertModel)     TFBaseModelOutputWit 109482240   input_ids[0][0]                  \n",
            "                                                                 input_masks[0][0]                \n",
            "                                                                 segment_ids[0][0]                \n",
            "__________________________________________________________________________________________________\n",
            "dense (Dense)                   (None, 512)          393728      tf_bert_model[0][1]              \n",
            "__________________________________________________________________________________________________\n",
            "dropout_37 (Dropout)            (None, 512)          0           dense[0][0]                      \n",
            "__________________________________________________________________________________________________\n",
            "asc (Dense)                     (None, 3)            1539        dropout_37[0][0]                 \n",
            "==================================================================================================\n",
            "Total params: 109,877,507\n",
            "Trainable params: 109,877,507\n",
            "Non-trainable params: 0\n",
            "__________________________________________________________________________________________________\n",
            "Epoch 1/5\n",
            "676/676 [==============================] - 137s 183ms/step - loss: 0.6497 - accuracy: 0.7265 - val_loss: 0.8547 - val_accuracy: 0.7467\n",
            "Epoch 2/5\n",
            "676/676 [==============================] - 121s 179ms/step - loss: 0.1390 - accuracy: 0.9491 - val_loss: 1.0608 - val_accuracy: 0.7667\n",
            "Epoch 3/5\n",
            "676/676 [==============================] - 121s 179ms/step - loss: 0.0491 - accuracy: 0.9831 - val_loss: 1.2925 - val_accuracy: 0.7667\n",
            "Epoch 4/5\n",
            "676/676 [==============================] - 121s 178ms/step - loss: 0.0448 - accuracy: 0.9861 - val_loss: 1.3538 - val_accuracy: 0.7400\n",
            "Epoch 5/5\n",
            "676/676 [==============================] - 120s 178ms/step - loss: 0.0182 - accuracy: 0.9932 - val_loss: 1.0249 - val_accuracy: 0.7600\n"
          ],
          "name": "stdout"
        },
        {
          "output_type": "execute_result",
          "data": {
            "text/plain": [
              "<tensorflow.python.keras.callbacks.History at 0x7ff0ea0334d0>"
            ]
          },
          "metadata": {
            "tags": []
          },
          "execution_count": 133
        }
      ]
    },
    {
      "cell_type": "code",
      "metadata": {
        "colab": {
          "base_uri": "https://localhost:8080/"
        },
        "id": "XtxMV998g8hZ",
        "outputId": "1325d088-fade-449a-a1b9-4598b52b375c"
      },
      "source": [
        "Counter(labels_train_k)"
      ],
      "execution_count": 110,
      "outputs": [
        {
          "output_type": "execute_result",
          "data": {
            "text/plain": [
              "Counter({0: 4000, 1: 2165, 2: 4650})"
            ]
          },
          "metadata": {
            "tags": []
          },
          "execution_count": 110
        }
      ]
    },
    {
      "cell_type": "code",
      "metadata": {
        "id": "4VFZjurCWnt8"
      },
      "source": [
        "results = model.predict([X_test[0],X_test[1],X_test[2]], batch_size=16)\n",
        "predictions = np.argmax(results,axis=1)\n",
        "asc_laptop_test_df['predictions_1'] = label_encoder.inverse_transform(predictions)"
      ],
      "execution_count": 134,
      "outputs": []
    },
    {
      "cell_type": "markdown",
      "metadata": {
        "id": "UMJXAQ6sWnt8"
      },
      "source": [
        "## ASC evaluation"
      ]
    },
    {
      "cell_type": "code",
      "metadata": {
        "colab": {
          "base_uri": "https://localhost:8080/"
        },
        "id": "3kbGX2Z1Wnt9",
        "outputId": "517086e9-d597-4446-e9d0-bea88c18253c"
      },
      "source": [
        "def get_asc_eval(y_true, y_pred):\n",
        "    print(confusion_matrix(y_true,y_pred,labels=['negative','neutral','positive']))\n",
        "    print(classification_report(y_true,y_pred,labels=['negative','neutral','positive']))\n",
        "get_asc_eval(asc_laptop_test_df.polarity,asc_laptop_test_df.predictions)"
      ],
      "execution_count": 150,
      "outputs": [
        {
          "output_type": "stream",
          "text": [
            "[[ 61  45  22]\n",
            " [ 32  81  56]\n",
            " [ 18  66 257]]\n",
            "              precision    recall  f1-score   support\n",
            "\n",
            "    negative       0.55      0.48      0.51       128\n",
            "     neutral       0.42      0.48      0.45       169\n",
            "    positive       0.77      0.75      0.76       341\n",
            "\n",
            "    accuracy                           0.63       638\n",
            "   macro avg       0.58      0.57      0.57       638\n",
            "weighted avg       0.63      0.63      0.63       638\n",
            "\n"
          ],
          "name": "stdout"
        }
      ]
    },
    {
      "cell_type": "code",
      "metadata": {
        "colab": {
          "base_uri": "https://localhost:8080/"
        },
        "id": "l34PneCnWnt9",
        "outputId": "278353b3-5530-48de-f491-b63d443439dc"
      },
      "source": [
        "get_asc_eval(asc_laptop_test_df.polarity,predictions)"
      ],
      "execution_count": 147,
      "outputs": [
        {
          "output_type": "stream",
          "text": [
            "[[102  14  12]\n",
            " [ 50  74  45]\n",
            " [ 18  21 302]]\n",
            "              precision    recall  f1-score   support\n",
            "\n",
            "    negative       0.60      0.80      0.68       128\n",
            "     neutral       0.68      0.44      0.53       169\n",
            "    positive       0.84      0.89      0.86       341\n",
            "\n",
            "    accuracy                           0.75       638\n",
            "   macro avg       0.71      0.71      0.69       638\n",
            "weighted avg       0.75      0.75      0.74       638\n",
            "\n"
          ],
          "name": "stdout"
        }
      ]
    },
    {
      "cell_type": "code",
      "metadata": {
        "id": "MLTb-Boz2obE"
      },
      "source": [
        ""
      ],
      "execution_count": null,
      "outputs": []
    }
  ]
}